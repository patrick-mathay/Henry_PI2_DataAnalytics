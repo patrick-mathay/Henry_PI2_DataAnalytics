{
 "cells": [
  {
   "cell_type": "markdown",
   "metadata": {},
   "source": [
    "EDA - Along these lines, there are several essential aspects that must be addressed in any Exploratory Data Analysis and we will take it as a starting point to evaluate your performance in this section. These highlights include: searching for missing values, outliers, and duplicate records. Likewise, the use of consistent graphs according to the corresponding variable typology is essential."
   ]
  },
  {
   "cell_type": "code",
   "execution_count": 30,
   "metadata": {},
   "outputs": [
    {
     "name": "stdout",
     "output_type": "stream",
     "text": [
      "Requirement already satisfied: pandas in c:\\users\\owner\\anaconda3\\lib\\site-packages (2.0.3)\n",
      "Requirement already satisfied: openpyxl in c:\\users\\owner\\anaconda3\\lib\\site-packages (3.0.10)\n",
      "Requirement already satisfied: python-dateutil>=2.8.2 in c:\\users\\owner\\anaconda3\\lib\\site-packages (from pandas) (2.8.2)\n",
      "Requirement already satisfied: pytz>=2020.1 in c:\\users\\owner\\anaconda3\\lib\\site-packages (from pandas) (2023.3.post1)\n",
      "Requirement already satisfied: tzdata>=2022.1 in c:\\users\\owner\\anaconda3\\lib\\site-packages (from pandas) (2023.3)\n",
      "Requirement already satisfied: numpy>=1.21.0 in c:\\users\\owner\\anaconda3\\lib\\site-packages (from pandas) (1.24.3)\n",
      "Requirement already satisfied: et_xmlfile in c:\\users\\owner\\anaconda3\\lib\\site-packages (from openpyxl) (1.1.0)\n",
      "Requirement already satisfied: six>=1.5 in c:\\users\\owner\\anaconda3\\lib\\site-packages (from python-dateutil>=2.8.2->pandas) (1.16.0)\n",
      "Note: you may need to restart the kernel to use updated packages.\n"
     ]
    }
   ],
   "source": [
    "pip install pandas openpyxl\n"
   ]
  },
  {
   "cell_type": "code",
   "execution_count": 31,
   "metadata": {},
   "outputs": [],
   "source": [
    "import pandas as pd\n",
    "import numpy as np\n",
    "import matplotlib.pyplot as plt\n",
    "import seaborn as sns\n",
    "import copy\n",
    "import datetime\n",
    "\n"
   ]
  },
  {
   "cell_type": "code",
   "execution_count": 32,
   "metadata": {},
   "outputs": [],
   "source": [
    "# Load the Excel file\n",
    "file_path = ('./homicidios.xlsx')\n",
    "all_sheets = pd.read_excel(file_path, sheet_name=None)\n"
   ]
  },
  {
   "cell_type": "code",
   "execution_count": 33,
   "metadata": {},
   "outputs": [],
   "source": [
    "import copy\n",
    "copied_sheets = copy.deepcopy(all_sheets)\n"
   ]
  },
  {
   "cell_type": "code",
   "execution_count": 34,
   "metadata": {},
   "outputs": [
    {
     "name": "stdout",
     "output_type": "stream",
     "text": [
      "['HECHOS', 'VICTIMAS']\n"
     ]
    }
   ],
   "source": [
    "# Print all sheet names to check the exact names\n",
    "print(list(copied_sheets.keys()))\n"
   ]
  },
  {
   "cell_type": "code",
   "execution_count": 35,
   "metadata": {},
   "outputs": [],
   "source": [
    "df_hechos = copied_sheets['HECHOS']  # DataFrame for the sheet named \"Hechos\"\n",
    "df_victimas = copied_sheets['VICTIMAS']  # DataFrame for the sheet named \"Victimas\"\n"
   ]
  },
  {
   "cell_type": "code",
   "execution_count": 36,
   "metadata": {},
   "outputs": [
    {
     "data": {
      "text/html": [
       "<div>\n",
       "<style scoped>\n",
       "    .dataframe tbody tr th:only-of-type {\n",
       "        vertical-align: middle;\n",
       "    }\n",
       "\n",
       "    .dataframe tbody tr th {\n",
       "        vertical-align: top;\n",
       "    }\n",
       "\n",
       "    .dataframe thead th {\n",
       "        text-align: right;\n",
       "    }\n",
       "</style>\n",
       "<table border=\"1\" class=\"dataframe\">\n",
       "  <thead>\n",
       "    <tr style=\"text-align: right;\">\n",
       "      <th></th>\n",
       "      <th>ID</th>\n",
       "      <th>N_VICTIMAS</th>\n",
       "      <th>FECHA</th>\n",
       "      <th>AAAA</th>\n",
       "      <th>MM</th>\n",
       "      <th>DD</th>\n",
       "      <th>HORA</th>\n",
       "      <th>HH</th>\n",
       "      <th>LUGAR_DEL_HECHO</th>\n",
       "      <th>TIPO_DE_CALLE</th>\n",
       "      <th>...</th>\n",
       "      <th>Altura</th>\n",
       "      <th>Cruce</th>\n",
       "      <th>Dirección Normalizada</th>\n",
       "      <th>COMUNA</th>\n",
       "      <th>XY (CABA)</th>\n",
       "      <th>pos x</th>\n",
       "      <th>pos y</th>\n",
       "      <th>PARTICIPANTES</th>\n",
       "      <th>VICTIMA</th>\n",
       "      <th>ACUSADO</th>\n",
       "    </tr>\n",
       "  </thead>\n",
       "  <tbody>\n",
       "    <tr>\n",
       "      <th>0</th>\n",
       "      <td>2016-0001</td>\n",
       "      <td>1</td>\n",
       "      <td>2016-01-01</td>\n",
       "      <td>2016</td>\n",
       "      <td>1</td>\n",
       "      <td>1</td>\n",
       "      <td>04:00:00</td>\n",
       "      <td>4</td>\n",
       "      <td>AV PIEDRA BUENA Y AV FERNANDEZ DE LA CRUZ</td>\n",
       "      <td>AVENIDA</td>\n",
       "      <td>...</td>\n",
       "      <td>NaN</td>\n",
       "      <td>FERNANDEZ DE LA CRUZ, F., GRAL. AV.</td>\n",
       "      <td>PIEDRA BUENA AV. y FERNANDEZ DE LA CRUZ, F., G...</td>\n",
       "      <td>8</td>\n",
       "      <td>Point (98896.78238426 93532.43437792)</td>\n",
       "      <td>-58.47533969</td>\n",
       "      <td>-34.68757022</td>\n",
       "      <td>MOTO-AUTO</td>\n",
       "      <td>MOTO</td>\n",
       "      <td>AUTO</td>\n",
       "    </tr>\n",
       "    <tr>\n",
       "      <th>1</th>\n",
       "      <td>2016-0002</td>\n",
       "      <td>1</td>\n",
       "      <td>2016-01-02</td>\n",
       "      <td>2016</td>\n",
       "      <td>1</td>\n",
       "      <td>2</td>\n",
       "      <td>01:15:00</td>\n",
       "      <td>1</td>\n",
       "      <td>AV GRAL PAZ  Y AV DE LOS CORRALES</td>\n",
       "      <td>GRAL PAZ</td>\n",
       "      <td>...</td>\n",
       "      <td>NaN</td>\n",
       "      <td>DE LOS CORRALES AV.</td>\n",
       "      <td>PAZ, GRAL. AV. y DE LOS CORRALES AV.</td>\n",
       "      <td>9</td>\n",
       "      <td>Point (95832.05571093 95505.41641999)</td>\n",
       "      <td>-58.50877521</td>\n",
       "      <td>-34.66977709</td>\n",
       "      <td>AUTO-PASAJEROS</td>\n",
       "      <td>AUTO</td>\n",
       "      <td>PASAJEROS</td>\n",
       "    </tr>\n",
       "    <tr>\n",
       "      <th>2</th>\n",
       "      <td>2016-0003</td>\n",
       "      <td>1</td>\n",
       "      <td>2016-01-03</td>\n",
       "      <td>2016</td>\n",
       "      <td>1</td>\n",
       "      <td>3</td>\n",
       "      <td>07:00:00</td>\n",
       "      <td>7</td>\n",
       "      <td>AV ENTRE RIOS 2034</td>\n",
       "      <td>AVENIDA</td>\n",
       "      <td>...</td>\n",
       "      <td>2034.0</td>\n",
       "      <td>NaN</td>\n",
       "      <td>ENTRE RIOS AV. 2034</td>\n",
       "      <td>1</td>\n",
       "      <td>Point (106684.29090040 99706.57687843)</td>\n",
       "      <td>-58.39040293</td>\n",
       "      <td>-34.63189362</td>\n",
       "      <td>MOTO-AUTO</td>\n",
       "      <td>MOTO</td>\n",
       "      <td>AUTO</td>\n",
       "    </tr>\n",
       "    <tr>\n",
       "      <th>3</th>\n",
       "      <td>2016-0004</td>\n",
       "      <td>1</td>\n",
       "      <td>2016-01-10</td>\n",
       "      <td>2016</td>\n",
       "      <td>1</td>\n",
       "      <td>10</td>\n",
       "      <td>00:00:00</td>\n",
       "      <td>0</td>\n",
       "      <td>AV LARRAZABAL Y GRAL VILLEGAS CONRADO</td>\n",
       "      <td>AVENIDA</td>\n",
       "      <td>...</td>\n",
       "      <td>NaN</td>\n",
       "      <td>VILLEGAS, CONRADO, GRAL.</td>\n",
       "      <td>LARRAZABAL AV. y VILLEGAS, CONRADO, GRAL.</td>\n",
       "      <td>8</td>\n",
       "      <td>Point (99840.65224780 94269.16534422)</td>\n",
       "      <td>-58.46503904</td>\n",
       "      <td>-34.68092974</td>\n",
       "      <td>MOTO-SD</td>\n",
       "      <td>MOTO</td>\n",
       "      <td>SD</td>\n",
       "    </tr>\n",
       "    <tr>\n",
       "      <th>4</th>\n",
       "      <td>2016-0005</td>\n",
       "      <td>1</td>\n",
       "      <td>2016-01-21</td>\n",
       "      <td>2016</td>\n",
       "      <td>1</td>\n",
       "      <td>21</td>\n",
       "      <td>05:20:00</td>\n",
       "      <td>5</td>\n",
       "      <td>AV SAN JUAN Y PRESIDENTE LUIS SAENZ PEÑA</td>\n",
       "      <td>AVENIDA</td>\n",
       "      <td>...</td>\n",
       "      <td>NaN</td>\n",
       "      <td>SAENZ PE?A, LUIS, PRES.</td>\n",
       "      <td>SAN JUAN AV. y SAENZ PEÃ‘A, LUIS, PRES.</td>\n",
       "      <td>1</td>\n",
       "      <td>Point (106980.32827929 100752.16915795)</td>\n",
       "      <td>-58.38718297</td>\n",
       "      <td>-34.62246630</td>\n",
       "      <td>MOTO-PASAJEROS</td>\n",
       "      <td>MOTO</td>\n",
       "      <td>PASAJEROS</td>\n",
       "    </tr>\n",
       "    <tr>\n",
       "      <th>...</th>\n",
       "      <td>...</td>\n",
       "      <td>...</td>\n",
       "      <td>...</td>\n",
       "      <td>...</td>\n",
       "      <td>...</td>\n",
       "      <td>...</td>\n",
       "      <td>...</td>\n",
       "      <td>...</td>\n",
       "      <td>...</td>\n",
       "      <td>...</td>\n",
       "      <td>...</td>\n",
       "      <td>...</td>\n",
       "      <td>...</td>\n",
       "      <td>...</td>\n",
       "      <td>...</td>\n",
       "      <td>...</td>\n",
       "      <td>...</td>\n",
       "      <td>...</td>\n",
       "      <td>...</td>\n",
       "      <td>...</td>\n",
       "      <td>...</td>\n",
       "    </tr>\n",
       "    <tr>\n",
       "      <th>691</th>\n",
       "      <td>2021-0093</td>\n",
       "      <td>1</td>\n",
       "      <td>2021-12-13</td>\n",
       "      <td>2021</td>\n",
       "      <td>12</td>\n",
       "      <td>13</td>\n",
       "      <td>17:10:00</td>\n",
       "      <td>17</td>\n",
       "      <td>AV. RIESTRA Y MOM</td>\n",
       "      <td>AVENIDA</td>\n",
       "      <td>...</td>\n",
       "      <td>NaN</td>\n",
       "      <td>MOM</td>\n",
       "      <td>RIESTRA AV. y MOM</td>\n",
       "      <td>7</td>\n",
       "      <td>Point (102728.60090138 98186.24929177)</td>\n",
       "      <td>-58.43353773</td>\n",
       "      <td>-34.64561636</td>\n",
       "      <td>MOTO-AUTO</td>\n",
       "      <td>MOTO</td>\n",
       "      <td>AUTO</td>\n",
       "    </tr>\n",
       "    <tr>\n",
       "      <th>692</th>\n",
       "      <td>2021-0094</td>\n",
       "      <td>1</td>\n",
       "      <td>2021-12-20</td>\n",
       "      <td>2021</td>\n",
       "      <td>12</td>\n",
       "      <td>20</td>\n",
       "      <td>01:10:00</td>\n",
       "      <td>1</td>\n",
       "      <td>AU DELLEPIANE Y LACARRA</td>\n",
       "      <td>AUTOPISTA</td>\n",
       "      <td>...</td>\n",
       "      <td>NaN</td>\n",
       "      <td>LACARRA AV.</td>\n",
       "      <td>DELLEPIANE, LUIS, TTE. GRAL. y LACARRA AV.</td>\n",
       "      <td>9</td>\n",
       "      <td>Point (99624.29795829 97569.69801131)</td>\n",
       "      <td>-58.46739825</td>\n",
       "      <td>-34.65117757</td>\n",
       "      <td>MOTO-AUTO</td>\n",
       "      <td>MOTO</td>\n",
       "      <td>AUTO</td>\n",
       "    </tr>\n",
       "    <tr>\n",
       "      <th>693</th>\n",
       "      <td>2021-0095</td>\n",
       "      <td>1</td>\n",
       "      <td>2021-12-30</td>\n",
       "      <td>2021</td>\n",
       "      <td>12</td>\n",
       "      <td>30</td>\n",
       "      <td>00:43:00</td>\n",
       "      <td>0</td>\n",
       "      <td>AV. GAONA Y TERRADA</td>\n",
       "      <td>AVENIDA</td>\n",
       "      <td>...</td>\n",
       "      <td>NaN</td>\n",
       "      <td>TERRADA</td>\n",
       "      <td>GAONA AV. y TERRADA</td>\n",
       "      <td>11</td>\n",
       "      <td>Point (99116.45492358 101045.23284826)</td>\n",
       "      <td>-58.47293407</td>\n",
       "      <td>-34.61984745</td>\n",
       "      <td>MOTO-CARGAS</td>\n",
       "      <td>MOTO</td>\n",
       "      <td>CARGAS</td>\n",
       "    </tr>\n",
       "    <tr>\n",
       "      <th>694</th>\n",
       "      <td>2021-0096</td>\n",
       "      <td>1</td>\n",
       "      <td>2021-12-15</td>\n",
       "      <td>2021</td>\n",
       "      <td>12</td>\n",
       "      <td>15</td>\n",
       "      <td>10:30:00</td>\n",
       "      <td>10</td>\n",
       "      <td>AV. EVA PERON 4071</td>\n",
       "      <td>AVENIDA</td>\n",
       "      <td>...</td>\n",
       "      <td>4071.0</td>\n",
       "      <td>NaN</td>\n",
       "      <td>PERON, EVA AV. 4071</td>\n",
       "      <td>9</td>\n",
       "      <td>Point (99324.54463985 97676.26932409)</td>\n",
       "      <td>-58.47066794</td>\n",
       "      <td>-34.65021673</td>\n",
       "      <td>AUTO-CARGAS</td>\n",
       "      <td>AUTO</td>\n",
       "      <td>CARGAS</td>\n",
       "    </tr>\n",
       "    <tr>\n",
       "      <th>695</th>\n",
       "      <td>2021-0097</td>\n",
       "      <td>1</td>\n",
       "      <td>2021-11-18</td>\n",
       "      <td>2021</td>\n",
       "      <td>11</td>\n",
       "      <td>18</td>\n",
       "      <td>06:10:00</td>\n",
       "      <td>6</td>\n",
       "      <td>PADRE CARLOS MUJICA 709</td>\n",
       "      <td>CALLE</td>\n",
       "      <td>...</td>\n",
       "      <td>709.0</td>\n",
       "      <td>NaN</td>\n",
       "      <td>PADRE CARLOS MUGICA 709</td>\n",
       "      <td>1</td>\n",
       "      <td>Point (107664.16647795 104708.63962087)</td>\n",
       "      <td>-58.37976155</td>\n",
       "      <td>-34.58679619</td>\n",
       "      <td>BICICLETA-AUTO</td>\n",
       "      <td>BICICLETA</td>\n",
       "      <td>AUTO</td>\n",
       "    </tr>\n",
       "  </tbody>\n",
       "</table>\n",
       "<p>696 rows × 21 columns</p>\n",
       "</div>"
      ],
      "text/plain": [
       "            ID  N_VICTIMAS      FECHA  AAAA  MM  DD      HORA  HH  \\\n",
       "0    2016-0001           1 2016-01-01  2016   1   1  04:00:00   4   \n",
       "1    2016-0002           1 2016-01-02  2016   1   2  01:15:00   1   \n",
       "2    2016-0003           1 2016-01-03  2016   1   3  07:00:00   7   \n",
       "3    2016-0004           1 2016-01-10  2016   1  10  00:00:00   0   \n",
       "4    2016-0005           1 2016-01-21  2016   1  21  05:20:00   5   \n",
       "..         ...         ...        ...   ...  ..  ..       ...  ..   \n",
       "691  2021-0093           1 2021-12-13  2021  12  13  17:10:00  17   \n",
       "692  2021-0094           1 2021-12-20  2021  12  20  01:10:00   1   \n",
       "693  2021-0095           1 2021-12-30  2021  12  30  00:43:00   0   \n",
       "694  2021-0096           1 2021-12-15  2021  12  15  10:30:00  10   \n",
       "695  2021-0097           1 2021-11-18  2021  11  18  06:10:00   6   \n",
       "\n",
       "                               LUGAR_DEL_HECHO TIPO_DE_CALLE  ...  Altura  \\\n",
       "0    AV PIEDRA BUENA Y AV FERNANDEZ DE LA CRUZ       AVENIDA  ...     NaN   \n",
       "1            AV GRAL PAZ  Y AV DE LOS CORRALES      GRAL PAZ  ...     NaN   \n",
       "2                           AV ENTRE RIOS 2034       AVENIDA  ...  2034.0   \n",
       "3        AV LARRAZABAL Y GRAL VILLEGAS CONRADO       AVENIDA  ...     NaN   \n",
       "4    AV SAN JUAN Y PRESIDENTE LUIS SAENZ PEÑA        AVENIDA  ...     NaN   \n",
       "..                                         ...           ...  ...     ...   \n",
       "691                          AV. RIESTRA Y MOM       AVENIDA  ...     NaN   \n",
       "692                    AU DELLEPIANE Y LACARRA     AUTOPISTA  ...     NaN   \n",
       "693                        AV. GAONA Y TERRADA       AVENIDA  ...     NaN   \n",
       "694                         AV. EVA PERON 4071       AVENIDA  ...  4071.0   \n",
       "695                    PADRE CARLOS MUJICA 709         CALLE  ...   709.0   \n",
       "\n",
       "                                   Cruce  \\\n",
       "0    FERNANDEZ DE LA CRUZ, F., GRAL. AV.   \n",
       "1                    DE LOS CORRALES AV.   \n",
       "2                                    NaN   \n",
       "3               VILLEGAS, CONRADO, GRAL.   \n",
       "4                SAENZ PE?A, LUIS, PRES.   \n",
       "..                                   ...   \n",
       "691                                  MOM   \n",
       "692                          LACARRA AV.   \n",
       "693                              TERRADA   \n",
       "694                                  NaN   \n",
       "695                                  NaN   \n",
       "\n",
       "                                 Dirección Normalizada COMUNA  \\\n",
       "0    PIEDRA BUENA AV. y FERNANDEZ DE LA CRUZ, F., G...      8   \n",
       "1                 PAZ, GRAL. AV. y DE LOS CORRALES AV.      9   \n",
       "2                                  ENTRE RIOS AV. 2034      1   \n",
       "3            LARRAZABAL AV. y VILLEGAS, CONRADO, GRAL.      8   \n",
       "4              SAN JUAN AV. y SAENZ PEÃ‘A, LUIS, PRES.      1   \n",
       "..                                                 ...    ...   \n",
       "691                                  RIESTRA AV. y MOM      7   \n",
       "692         DELLEPIANE, LUIS, TTE. GRAL. y LACARRA AV.      9   \n",
       "693                                GAONA AV. y TERRADA     11   \n",
       "694                                PERON, EVA AV. 4071      9   \n",
       "695                            PADRE CARLOS MUGICA 709      1   \n",
       "\n",
       "                                   XY (CABA)         pos x         pos y  \\\n",
       "0      Point (98896.78238426 93532.43437792)  -58.47533969  -34.68757022   \n",
       "1      Point (95832.05571093 95505.41641999)  -58.50877521  -34.66977709   \n",
       "2     Point (106684.29090040 99706.57687843)  -58.39040293  -34.63189362   \n",
       "3      Point (99840.65224780 94269.16534422)  -58.46503904  -34.68092974   \n",
       "4    Point (106980.32827929 100752.16915795)  -58.38718297  -34.62246630   \n",
       "..                                       ...           ...           ...   \n",
       "691   Point (102728.60090138 98186.24929177)  -58.43353773  -34.64561636   \n",
       "692    Point (99624.29795829 97569.69801131)  -58.46739825  -34.65117757   \n",
       "693   Point (99116.45492358 101045.23284826)  -58.47293407  -34.61984745   \n",
       "694    Point (99324.54463985 97676.26932409)  -58.47066794  -34.65021673   \n",
       "695  Point (107664.16647795 104708.63962087)  -58.37976155  -34.58679619   \n",
       "\n",
       "      PARTICIPANTES    VICTIMA    ACUSADO  \n",
       "0         MOTO-AUTO       MOTO       AUTO  \n",
       "1    AUTO-PASAJEROS       AUTO  PASAJEROS  \n",
       "2         MOTO-AUTO       MOTO       AUTO  \n",
       "3           MOTO-SD       MOTO         SD  \n",
       "4    MOTO-PASAJEROS       MOTO  PASAJEROS  \n",
       "..              ...        ...        ...  \n",
       "691       MOTO-AUTO       MOTO       AUTO  \n",
       "692       MOTO-AUTO       MOTO       AUTO  \n",
       "693     MOTO-CARGAS       MOTO     CARGAS  \n",
       "694     AUTO-CARGAS       AUTO     CARGAS  \n",
       "695  BICICLETA-AUTO  BICICLETA       AUTO  \n",
       "\n",
       "[696 rows x 21 columns]"
      ]
     },
     "execution_count": 36,
     "metadata": {},
     "output_type": "execute_result"
    }
   ],
   "source": [
    "df_hechos"
   ]
  },
  {
   "cell_type": "code",
   "execution_count": 37,
   "metadata": {},
   "outputs": [
    {
     "data": {
      "text/html": [
       "<div>\n",
       "<style scoped>\n",
       "    .dataframe tbody tr th:only-of-type {\n",
       "        vertical-align: middle;\n",
       "    }\n",
       "\n",
       "    .dataframe tbody tr th {\n",
       "        vertical-align: top;\n",
       "    }\n",
       "\n",
       "    .dataframe thead th {\n",
       "        text-align: right;\n",
       "    }\n",
       "</style>\n",
       "<table border=\"1\" class=\"dataframe\">\n",
       "  <thead>\n",
       "    <tr style=\"text-align: right;\">\n",
       "      <th></th>\n",
       "      <th>ID_hecho</th>\n",
       "      <th>FECHA</th>\n",
       "      <th>AAAA</th>\n",
       "      <th>MM</th>\n",
       "      <th>DD</th>\n",
       "      <th>ROL</th>\n",
       "      <th>VICTIMA</th>\n",
       "      <th>SEXO</th>\n",
       "      <th>EDAD</th>\n",
       "      <th>FECHA_FALLECIMIENTO</th>\n",
       "    </tr>\n",
       "  </thead>\n",
       "  <tbody>\n",
       "    <tr>\n",
       "      <th>0</th>\n",
       "      <td>2016-0001</td>\n",
       "      <td>2016-01-01</td>\n",
       "      <td>2016</td>\n",
       "      <td>1</td>\n",
       "      <td>1</td>\n",
       "      <td>CONDUCTOR</td>\n",
       "      <td>MOTO</td>\n",
       "      <td>MASCULINO</td>\n",
       "      <td>19</td>\n",
       "      <td>2016-01-01 00:00:00</td>\n",
       "    </tr>\n",
       "    <tr>\n",
       "      <th>1</th>\n",
       "      <td>2016-0002</td>\n",
       "      <td>2016-01-02</td>\n",
       "      <td>2016</td>\n",
       "      <td>1</td>\n",
       "      <td>2</td>\n",
       "      <td>CONDUCTOR</td>\n",
       "      <td>AUTO</td>\n",
       "      <td>MASCULINO</td>\n",
       "      <td>70</td>\n",
       "      <td>2016-01-02 00:00:00</td>\n",
       "    </tr>\n",
       "    <tr>\n",
       "      <th>2</th>\n",
       "      <td>2016-0003</td>\n",
       "      <td>2016-01-03</td>\n",
       "      <td>2016</td>\n",
       "      <td>1</td>\n",
       "      <td>3</td>\n",
       "      <td>CONDUCTOR</td>\n",
       "      <td>MOTO</td>\n",
       "      <td>MASCULINO</td>\n",
       "      <td>30</td>\n",
       "      <td>2016-01-03 00:00:00</td>\n",
       "    </tr>\n",
       "    <tr>\n",
       "      <th>3</th>\n",
       "      <td>2016-0004</td>\n",
       "      <td>2016-01-10</td>\n",
       "      <td>2016</td>\n",
       "      <td>1</td>\n",
       "      <td>10</td>\n",
       "      <td>CONDUCTOR</td>\n",
       "      <td>MOTO</td>\n",
       "      <td>MASCULINO</td>\n",
       "      <td>18</td>\n",
       "      <td>SD</td>\n",
       "    </tr>\n",
       "    <tr>\n",
       "      <th>4</th>\n",
       "      <td>2016-0005</td>\n",
       "      <td>2016-01-21</td>\n",
       "      <td>2016</td>\n",
       "      <td>1</td>\n",
       "      <td>21</td>\n",
       "      <td>CONDUCTOR</td>\n",
       "      <td>MOTO</td>\n",
       "      <td>MASCULINO</td>\n",
       "      <td>29</td>\n",
       "      <td>2016-02-01 00:00:00</td>\n",
       "    </tr>\n",
       "    <tr>\n",
       "      <th>...</th>\n",
       "      <td>...</td>\n",
       "      <td>...</td>\n",
       "      <td>...</td>\n",
       "      <td>...</td>\n",
       "      <td>...</td>\n",
       "      <td>...</td>\n",
       "      <td>...</td>\n",
       "      <td>...</td>\n",
       "      <td>...</td>\n",
       "      <td>...</td>\n",
       "    </tr>\n",
       "    <tr>\n",
       "      <th>712</th>\n",
       "      <td>2021-0092</td>\n",
       "      <td>2021-12-12</td>\n",
       "      <td>2021</td>\n",
       "      <td>12</td>\n",
       "      <td>12</td>\n",
       "      <td>PEATON</td>\n",
       "      <td>PEATON</td>\n",
       "      <td>FEMENINO</td>\n",
       "      <td>50</td>\n",
       "      <td>2021-12-12 00:00:00</td>\n",
       "    </tr>\n",
       "    <tr>\n",
       "      <th>713</th>\n",
       "      <td>2021-0093</td>\n",
       "      <td>2021-12-13</td>\n",
       "      <td>2021</td>\n",
       "      <td>12</td>\n",
       "      <td>13</td>\n",
       "      <td>PASAJERO_ACOMPAÑANTE</td>\n",
       "      <td>MOTO</td>\n",
       "      <td>FEMENINO</td>\n",
       "      <td>18</td>\n",
       "      <td>2021-12-18 00:00:00</td>\n",
       "    </tr>\n",
       "    <tr>\n",
       "      <th>714</th>\n",
       "      <td>2021-0094</td>\n",
       "      <td>2021-12-20</td>\n",
       "      <td>2021</td>\n",
       "      <td>12</td>\n",
       "      <td>20</td>\n",
       "      <td>PASAJERO_ACOMPAÑANTE</td>\n",
       "      <td>MOTO</td>\n",
       "      <td>FEMENINO</td>\n",
       "      <td>43</td>\n",
       "      <td>2021-12-20 00:00:00</td>\n",
       "    </tr>\n",
       "    <tr>\n",
       "      <th>715</th>\n",
       "      <td>2021-0095</td>\n",
       "      <td>2021-12-30</td>\n",
       "      <td>2021</td>\n",
       "      <td>12</td>\n",
       "      <td>30</td>\n",
       "      <td>CONDUCTOR</td>\n",
       "      <td>MOTO</td>\n",
       "      <td>MASCULINO</td>\n",
       "      <td>27</td>\n",
       "      <td>2022-01-02 00:00:00</td>\n",
       "    </tr>\n",
       "    <tr>\n",
       "      <th>716</th>\n",
       "      <td>2021-0096</td>\n",
       "      <td>2021-12-15</td>\n",
       "      <td>2021</td>\n",
       "      <td>12</td>\n",
       "      <td>15</td>\n",
       "      <td>CONDUCTOR</td>\n",
       "      <td>AUTO</td>\n",
       "      <td>MASCULINO</td>\n",
       "      <td>60</td>\n",
       "      <td>2021-12-20 00:00:00</td>\n",
       "    </tr>\n",
       "  </tbody>\n",
       "</table>\n",
       "<p>717 rows × 10 columns</p>\n",
       "</div>"
      ],
      "text/plain": [
       "      ID_hecho      FECHA  AAAA  MM  DD                   ROL VICTIMA  \\\n",
       "0    2016-0001 2016-01-01  2016   1   1             CONDUCTOR    MOTO   \n",
       "1    2016-0002 2016-01-02  2016   1   2             CONDUCTOR    AUTO   \n",
       "2    2016-0003 2016-01-03  2016   1   3             CONDUCTOR    MOTO   \n",
       "3    2016-0004 2016-01-10  2016   1  10             CONDUCTOR    MOTO   \n",
       "4    2016-0005 2016-01-21  2016   1  21             CONDUCTOR    MOTO   \n",
       "..         ...        ...   ...  ..  ..                   ...     ...   \n",
       "712  2021-0092 2021-12-12  2021  12  12                PEATON  PEATON   \n",
       "713  2021-0093 2021-12-13  2021  12  13  PASAJERO_ACOMPAÑANTE    MOTO   \n",
       "714  2021-0094 2021-12-20  2021  12  20  PASAJERO_ACOMPAÑANTE    MOTO   \n",
       "715  2021-0095 2021-12-30  2021  12  30             CONDUCTOR    MOTO   \n",
       "716  2021-0096 2021-12-15  2021  12  15             CONDUCTOR    AUTO   \n",
       "\n",
       "          SEXO EDAD  FECHA_FALLECIMIENTO  \n",
       "0    MASCULINO   19  2016-01-01 00:00:00  \n",
       "1    MASCULINO   70  2016-01-02 00:00:00  \n",
       "2    MASCULINO   30  2016-01-03 00:00:00  \n",
       "3    MASCULINO   18                   SD  \n",
       "4    MASCULINO   29  2016-02-01 00:00:00  \n",
       "..         ...  ...                  ...  \n",
       "712   FEMENINO   50  2021-12-12 00:00:00  \n",
       "713   FEMENINO   18  2021-12-18 00:00:00  \n",
       "714   FEMENINO   43  2021-12-20 00:00:00  \n",
       "715  MASCULINO   27  2022-01-02 00:00:00  \n",
       "716  MASCULINO   60  2021-12-20 00:00:00  \n",
       "\n",
       "[717 rows x 10 columns]"
      ]
     },
     "execution_count": 37,
     "metadata": {},
     "output_type": "execute_result"
    }
   ],
   "source": [
    "df_victimas"
   ]
  },
  {
   "cell_type": "markdown",
   "metadata": {},
   "source": [
    "Prepare data for analysis. "
   ]
  },
  {
   "cell_type": "markdown",
   "metadata": {},
   "source": [
    "Data preparation for Hechos dataframe"
   ]
  },
  {
   "cell_type": "code",
   "execution_count": 38,
   "metadata": {},
   "outputs": [
    {
     "name": "stdout",
     "output_type": "stream",
     "text": [
      "DataFrame Info for df_hechos:\n",
      "<class 'pandas.core.frame.DataFrame'>\n",
      "RangeIndex: 696 entries, 0 to 695\n",
      "Data columns (total 21 columns):\n",
      " #   Column                 Non-Null Count  Dtype         \n",
      "---  ------                 --------------  -----         \n",
      " 0   ID                     696 non-null    object        \n",
      " 1   N_VICTIMAS             696 non-null    int64         \n",
      " 2   FECHA                  696 non-null    datetime64[ns]\n",
      " 3   AAAA                   696 non-null    int64         \n",
      " 4   MM                     696 non-null    int64         \n",
      " 5   DD                     696 non-null    int64         \n",
      " 6   HORA                   696 non-null    object        \n",
      " 7   HH                     696 non-null    object        \n",
      " 8   LUGAR_DEL_HECHO        696 non-null    object        \n",
      " 9   TIPO_DE_CALLE          696 non-null    object        \n",
      " 10  Calle                  695 non-null    object        \n",
      " 11  Altura                 129 non-null    float64       \n",
      " 12  Cruce                  525 non-null    object        \n",
      " 13  Dirección Normalizada  688 non-null    object        \n",
      " 14  COMUNA                 696 non-null    int64         \n",
      " 15  XY (CABA)              696 non-null    object        \n",
      " 16  pos x                  696 non-null    object        \n",
      " 17  pos y                  696 non-null    object        \n",
      " 18  PARTICIPANTES          696 non-null    object        \n",
      " 19  VICTIMA                696 non-null    object        \n",
      " 20  ACUSADO                696 non-null    object        \n",
      "dtypes: datetime64[ns](1), float64(1), int64(5), object(14)\n",
      "memory usage: 114.3+ KB\n"
     ]
    }
   ],
   "source": [
    "# Display data types and other info for df_hechos\n",
    "print(\"DataFrame Info for df_hechos:\")\n",
    "df_hechos.info()"
   ]
  },
  {
   "cell_type": "markdown",
   "metadata": {},
   "source": [
    "Create a new column 'PERIODO' to categorize time of day"
   ]
  },
  {
   "cell_type": "code",
   "execution_count": 39,
   "metadata": {},
   "outputs": [
    {
     "name": "stdout",
     "output_type": "stream",
     "text": [
      "            ID  N_VICTIMAS      FECHA  AAAA  MM  DD                HORA  HH  \\\n",
      "0    2016-0001           1 2016-01-01  2016   1   1 1900-01-01 04:00:00   4   \n",
      "1    2016-0002           1 2016-01-02  2016   1   2 1900-01-01 01:15:00   1   \n",
      "2    2016-0003           1 2016-01-03  2016   1   3 1900-01-01 07:00:00   7   \n",
      "3    2016-0004           1 2016-01-10  2016   1  10 1900-01-01 00:00:00   0   \n",
      "4    2016-0005           1 2016-01-21  2016   1  21 1900-01-01 05:20:00   5   \n",
      "..         ...         ...        ...   ...  ..  ..                 ...  ..   \n",
      "691  2021-0093           1 2021-12-13  2021  12  13 1900-01-01 17:10:00  17   \n",
      "692  2021-0094           1 2021-12-20  2021  12  20 1900-01-01 01:10:00   1   \n",
      "693  2021-0095           1 2021-12-30  2021  12  30 1900-01-01 00:43:00   0   \n",
      "694  2021-0096           1 2021-12-15  2021  12  15 1900-01-01 10:30:00  10   \n",
      "695  2021-0097           1 2021-11-18  2021  11  18 1900-01-01 06:10:00   6   \n",
      "\n",
      "                               LUGAR_DEL_HECHO TIPO_DE_CALLE  ...  \\\n",
      "0    AV PIEDRA BUENA Y AV FERNANDEZ DE LA CRUZ       AVENIDA  ...   \n",
      "1            AV GRAL PAZ  Y AV DE LOS CORRALES      GRAL PAZ  ...   \n",
      "2                           AV ENTRE RIOS 2034       AVENIDA  ...   \n",
      "3        AV LARRAZABAL Y GRAL VILLEGAS CONRADO       AVENIDA  ...   \n",
      "4    AV SAN JUAN Y PRESIDENTE LUIS SAENZ PEÑA        AVENIDA  ...   \n",
      "..                                         ...           ...  ...   \n",
      "691                          AV. RIESTRA Y MOM       AVENIDA  ...   \n",
      "692                    AU DELLEPIANE Y LACARRA     AUTOPISTA  ...   \n",
      "693                        AV. GAONA Y TERRADA       AVENIDA  ...   \n",
      "694                         AV. EVA PERON 4071       AVENIDA  ...   \n",
      "695                    PADRE CARLOS MUJICA 709         CALLE  ...   \n",
      "\n",
      "                                   Cruce  \\\n",
      "0    FERNANDEZ DE LA CRUZ, F., GRAL. AV.   \n",
      "1                    DE LOS CORRALES AV.   \n",
      "2                                    NaN   \n",
      "3               VILLEGAS, CONRADO, GRAL.   \n",
      "4                SAENZ PE?A, LUIS, PRES.   \n",
      "..                                   ...   \n",
      "691                                  MOM   \n",
      "692                          LACARRA AV.   \n",
      "693                              TERRADA   \n",
      "694                                  NaN   \n",
      "695                                  NaN   \n",
      "\n",
      "                                 Dirección Normalizada COMUNA  \\\n",
      "0    PIEDRA BUENA AV. y FERNANDEZ DE LA CRUZ, F., G...      8   \n",
      "1                 PAZ, GRAL. AV. y DE LOS CORRALES AV.      9   \n",
      "2                                  ENTRE RIOS AV. 2034      1   \n",
      "3            LARRAZABAL AV. y VILLEGAS, CONRADO, GRAL.      8   \n",
      "4              SAN JUAN AV. y SAENZ PEÃ‘A, LUIS, PRES.      1   \n",
      "..                                                 ...    ...   \n",
      "691                                  RIESTRA AV. y MOM      7   \n",
      "692         DELLEPIANE, LUIS, TTE. GRAL. y LACARRA AV.      9   \n",
      "693                                GAONA AV. y TERRADA     11   \n",
      "694                                PERON, EVA AV. 4071      9   \n",
      "695                            PADRE CARLOS MUGICA 709      1   \n",
      "\n",
      "                                   XY (CABA)         pos x         pos y  \\\n",
      "0      Point (98896.78238426 93532.43437792)  -58.47533969  -34.68757022   \n",
      "1      Point (95832.05571093 95505.41641999)  -58.50877521  -34.66977709   \n",
      "2     Point (106684.29090040 99706.57687843)  -58.39040293  -34.63189362   \n",
      "3      Point (99840.65224780 94269.16534422)  -58.46503904  -34.68092974   \n",
      "4    Point (106980.32827929 100752.16915795)  -58.38718297  -34.62246630   \n",
      "..                                       ...           ...           ...   \n",
      "691   Point (102728.60090138 98186.24929177)  -58.43353773  -34.64561636   \n",
      "692    Point (99624.29795829 97569.69801131)  -58.46739825  -34.65117757   \n",
      "693   Point (99116.45492358 101045.23284826)  -58.47293407  -34.61984745   \n",
      "694    Point (99324.54463985 97676.26932409)  -58.47066794  -34.65021673   \n",
      "695  Point (107664.16647795 104708.63962087)  -58.37976155  -34.58679619   \n",
      "\n",
      "      PARTICIPANTES    VICTIMA    ACUSADO    PERIODO  \n",
      "0         MOTO-AUTO       MOTO       AUTO  Madrugada  \n",
      "1    AUTO-PASAJEROS       AUTO  PASAJEROS  Madrugada  \n",
      "2         MOTO-AUTO       MOTO       AUTO     Mañana  \n",
      "3           MOTO-SD       MOTO         SD  Madrugada  \n",
      "4    MOTO-PASAJEROS       MOTO  PASAJEROS     Mañana  \n",
      "..              ...        ...        ...        ...  \n",
      "691       MOTO-AUTO       MOTO       AUTO      Noche  \n",
      "692       MOTO-AUTO       MOTO       AUTO  Madrugada  \n",
      "693     MOTO-CARGAS       MOTO     CARGAS  Madrugada  \n",
      "694     AUTO-CARGAS       AUTO     CARGAS   Mediodía  \n",
      "695  BICICLETA-AUTO  BICICLETA       AUTO     Mañana  \n",
      "\n",
      "[695 rows x 22 columns]\n"
     ]
    },
    {
     "name": "stderr",
     "output_type": "stream",
     "text": [
      "C:\\Users\\Owner\\AppData\\Local\\Temp\\ipykernel_14408\\1896942636.py:25: SettingWithCopyWarning: \n",
      "A value is trying to be set on a copy of a slice from a DataFrame.\n",
      "Try using .loc[row_indexer,col_indexer] = value instead\n",
      "\n",
      "See the caveats in the documentation: https://pandas.pydata.org/pandas-docs/stable/user_guide/indexing.html#returning-a-view-versus-a-copy\n",
      "  df_hechos['PERIODO'] = df_hechos['HORA'].apply(categorize_time)\n"
     ]
    }
   ],
   "source": [
    "# Convert 'HORA' column to datetime format with error handling\n",
    "df_hechos['HORA'] = pd.to_datetime(df_hechos['HORA'], format='%H:%M:%S', errors='coerce')\n",
    "\n",
    "# Filter out missing values (NaT) in the 'HORA' column using boolean indexing\n",
    "df_hechos = df_hechos[~df_hechos['HORA'].isna()]\n",
    "\n",
    "# Define the dividing lines for time categories\n",
    "time_divisions = {\n",
    "    'Mañana': (pd.to_datetime('05:00:00').time(), pd.to_datetime('09:59:59').time()),\n",
    "    'Mediodía': (pd.to_datetime('10:00:00').time(), pd.to_datetime('14:59:59').time()),\n",
    "    'Tarde': (pd.to_datetime('15:00:00').time(), pd.to_datetime('16:59:59').time()),\n",
    "    'Noche': (pd.to_datetime('17:00:00').time(), pd.to_datetime('20:59:59').time()),\n",
    "    'Madrugada': (pd.to_datetime('21:00:00').time(), pd.to_datetime('23:59:59').time())  # Hasta la medianoche\n",
    "}\n",
    "\n",
    "# Function to categorize time into periods\n",
    "def categorize_time(hour):\n",
    "    for period, (start, end) in time_divisions.items():\n",
    "        if start <= hour.time() <= end:\n",
    "            return period\n",
    "    # If the hour is between midnight and 5:00 AM, consider it as Madrugada\n",
    "    return 'Madrugada'\n",
    "\n",
    "# Add a new column 'PERIODO' with categorized time\n",
    "df_hechos['PERIODO'] = df_hechos['HORA'].apply(categorize_time)\n",
    "\n",
    "# Display the DataFrame with the new column\n",
    "print(df_hechos)\n"
   ]
  },
  {
   "cell_type": "markdown",
   "metadata": {},
   "source": [
    "Check for missing values/nulls"
   ]
  },
  {
   "cell_type": "code",
   "execution_count": 40,
   "metadata": {},
   "outputs": [
    {
     "name": "stdout",
     "output_type": "stream",
     "text": [
      "Null values in each column of df_hechos:\n",
      "ID                         0\n",
      "N_VICTIMAS                 0\n",
      "FECHA                      0\n",
      "AAAA                       0\n",
      "MM                         0\n",
      "DD                         0\n",
      "HORA                       0\n",
      "HH                         0\n",
      "LUGAR_DEL_HECHO            0\n",
      "TIPO_DE_CALLE              0\n",
      "Calle                      1\n",
      "Altura                   566\n",
      "Cruce                    171\n",
      "Dirección Normalizada      8\n",
      "COMUNA                     0\n",
      "XY (CABA)                  0\n",
      "pos x                      0\n",
      "pos y                      0\n",
      "PARTICIPANTES              0\n",
      "VICTIMA                    0\n",
      "ACUSADO                    0\n",
      "PERIODO                    0\n",
      "dtype: int64\n"
     ]
    }
   ],
   "source": [
    "# Sum of null values in each column for df_hechos\n",
    "null_counts_hechos = df_hechos.isnull().sum()\n",
    "print(\"Null values in each column of df_hechos:\")\n",
    "print(null_counts_hechos)"
   ]
  },
  {
   "cell_type": "markdown",
   "metadata": {},
   "source": [
    "Av General Paz is best defined as an autopista due to its characteristics. Replacing GRAL PAZ with AVENIDA."
   ]
  },
  {
   "cell_type": "code",
   "execution_count": 41,
   "metadata": {},
   "outputs": [
    {
     "name": "stdout",
     "output_type": "stream",
     "text": [
      "['AVENIDA' 'AUTOPISTA' 'CALLE']\n"
     ]
    },
    {
     "name": "stderr",
     "output_type": "stream",
     "text": [
      "C:\\Users\\Owner\\AppData\\Local\\Temp\\ipykernel_14408\\1145279493.py:2: SettingWithCopyWarning: \n",
      "A value is trying to be set on a copy of a slice from a DataFrame.\n",
      "Try using .loc[row_indexer,col_indexer] = value instead\n",
      "\n",
      "See the caveats in the documentation: https://pandas.pydata.org/pandas-docs/stable/user_guide/indexing.html#returning-a-view-versus-a-copy\n",
      "  df_hechos['TIPO_DE_CALLE'] = df_hechos['TIPO_DE_CALLE'].replace('GRAL PAZ', 'AUTOPISTA')\n"
     ]
    }
   ],
   "source": [
    "# Replace 'GRAL PAZ' with 'AUTOPISTA' in the TIPO_DE_CALLE column\n",
    "df_hechos['TIPO_DE_CALLE'] = df_hechos['TIPO_DE_CALLE'].replace('GRAL PAZ', 'AUTOPISTA')\n",
    "\n",
    "# Verify the change by checking the unique values in the TIPO_DE_CALLE column\n",
    "print(df_hechos['TIPO_DE_CALLE'].unique())\n"
   ]
  },
  {
   "cell_type": "markdown",
   "metadata": {},
   "source": [
    "Data preparation for the victimas dataframe"
   ]
  },
  {
   "cell_type": "code",
   "execution_count": 42,
   "metadata": {},
   "outputs": [
    {
     "name": "stdout",
     "output_type": "stream",
     "text": [
      "DataFrame Info for df_victimas:\n",
      "<class 'pandas.core.frame.DataFrame'>\n",
      "RangeIndex: 717 entries, 0 to 716\n",
      "Data columns (total 10 columns):\n",
      " #   Column               Non-Null Count  Dtype         \n",
      "---  ------               --------------  -----         \n",
      " 0   ID_hecho             717 non-null    object        \n",
      " 1   FECHA                717 non-null    datetime64[ns]\n",
      " 2   AAAA                 717 non-null    int64         \n",
      " 3   MM                   717 non-null    int64         \n",
      " 4   DD                   717 non-null    int64         \n",
      " 5   ROL                  717 non-null    object        \n",
      " 6   VICTIMA              717 non-null    object        \n",
      " 7   SEXO                 717 non-null    object        \n",
      " 8   EDAD                 717 non-null    object        \n",
      " 9   FECHA_FALLECIMIENTO  717 non-null    object        \n",
      "dtypes: datetime64[ns](1), int64(3), object(6)\n",
      "memory usage: 56.1+ KB\n"
     ]
    }
   ],
   "source": [
    "# Display data types and other info for df_victimas\n",
    "print(\"DataFrame Info for df_victimas:\")\n",
    "df_victimas.info()"
   ]
  },
  {
   "cell_type": "markdown",
   "metadata": {},
   "source": [
    "Check to see if FECHA and FECHA_FALLECIMIENTO has consistent pattern before changing"
   ]
  },
  {
   "cell_type": "code",
   "execution_count": 43,
   "metadata": {},
   "outputs": [
    {
     "name": "stdout",
     "output_type": "stream",
     "text": [
      "All FECHA entries match the 'empty time' pattern: True\n",
      "All FECHA_FALLECIMIENTO entries match the 'empty time' pattern: False\n"
     ]
    }
   ],
   "source": [
    "# Convert both columns to datetime format, if not already done\n",
    "df_victimas['FECHA'] = pd.to_datetime(df_victimas['FECHA'], errors='coerce')\n",
    "df_victimas['FECHA_FALLECIMIENTO'] = pd.to_datetime(df_victimas['FECHA_FALLECIMIENTO'], errors='coerce')\n",
    "\n",
    "# Check if all time components are zero (midnight) for both columns\n",
    "all_zeros_FECHA = df_victimas['FECHA'].apply(lambda x: x is not pd.NaT and x.time() == datetime.time(0, 0, 0))\n",
    "all_zeros_FECHA_FALLECIMIENTO = df_victimas['FECHA_FALLECIMIENTO'].apply(lambda x: x is not pd.NaT and x.time() == datetime.time(0, 0, 0))\n",
    "\n",
    "# Verify if all entries have the zero time component\n",
    "all_match_FECHA = all_zeros_FECHA.all()\n",
    "all_match_FECHA_FALLECIMIENTO = all_zeros_FECHA_FALLECIMIENTO.all()\n",
    "\n",
    "print(\"All FECHA entries match the 'empty time' pattern:\", all_match_FECHA)\n",
    "print(\"All FECHA_FALLECIMIENTO entries match the 'empty time' pattern:\", all_match_FECHA_FALLECIMIENTO)\n"
   ]
  },
  {
   "cell_type": "code",
   "execution_count": 44,
   "metadata": {},
   "outputs": [
    {
     "name": "stdout",
     "output_type": "stream",
     "text": [
      "Entries that do not conform to the midnight datetime pattern:\n",
      "Empty DataFrame\n",
      "Columns: [ID_hecho, FECHA, AAAA, MM, DD, ROL, VICTIMA, SEXO, EDAD, FECHA_FALLECIMIENTO]\n",
      "Index: []\n"
     ]
    }
   ],
   "source": [
    "# Replace 'SD' with NaN to handle it as a missing value\n",
    "df_victimas['FECHA_FALLECIMIENTO'].replace('SD', np.nan, inplace=True)\n",
    "\n",
    "# Convert the column to datetime format, handling errors by coercing them to NaT (missing datetime)\n",
    "df_victimas['FECHA_FALLECIMIENTO'] = pd.to_datetime(df_victimas['FECHA_FALLECIMIENTO'], errors='coerce')\n",
    "\n",
    "# Filter to find entries that do not match the midnight time component\n",
    "non_midnight_entries = df_victimas[df_victimas['FECHA_FALLECIMIENTO'].notna() & \n",
    "                                   (df_victimas['FECHA_FALLECIMIENTO'].dt.time != datetime.time(0, 0, 0))]\n",
    "\n",
    "# Display these entries to inspect them\n",
    "print(\"Entries that do not conform to the midnight datetime pattern:\")\n",
    "print(non_midnight_entries)\n"
   ]
  },
  {
   "cell_type": "markdown",
   "metadata": {},
   "source": [
    "All time is set to midnight, which isn't useful. Dropping time, leaving date in both columns "
   ]
  },
  {
   "cell_type": "code",
   "execution_count": 45,
   "metadata": {},
   "outputs": [
    {
     "name": "stdout",
     "output_type": "stream",
     "text": [
      "        FECHA FECHA_FALLECIMIENTO\n",
      "0  2016-01-01          2016-01-01\n",
      "1  2016-01-02          2016-01-02\n",
      "2  2016-01-03          2016-01-03\n",
      "3  2016-01-10                 NaT\n",
      "4  2016-01-21          2016-02-01\n"
     ]
    }
   ],
   "source": [
    "# Assuming all entries for both datetime columns are confirmed to be at midnight\n",
    "df_victimas['FECHA'] = df_victimas['FECHA'].dt.date\n",
    "df_victimas['FECHA_FALLECIMIENTO'] = df_victimas['FECHA_FALLECIMIENTO'].dt.date\n",
    "\n",
    "# Check the first few entries to confirm the changes\n",
    "print(df_victimas[['FECHA', 'FECHA_FALLECIMIENTO']].head())\n"
   ]
  },
  {
   "cell_type": "code",
   "execution_count": 46,
   "metadata": {},
   "outputs": [
    {
     "name": "stdout",
     "output_type": "stream",
     "text": [
      "Columns converted to datetime.\n",
      "Time components dropped, only dates retained.\n",
      "        FECHA FECHA_FALLECIMIENTO\n",
      "0  2016-01-01          2016-01-01\n",
      "1  2016-01-02          2016-01-02\n",
      "2  2016-01-03          2016-01-03\n",
      "3  2016-01-10                 NaT\n",
      "4  2016-01-21          2016-02-01\n"
     ]
    }
   ],
   "source": [
    "# First, let's ensure both columns are in datetime format\n",
    "try:\n",
    "    df_victimas['FECHA'] = pd.to_datetime(df_victimas['FECHA'], errors='coerce')\n",
    "    df_victimas['FECHA_FALLECIMIENTO'] = pd.to_datetime(df_victimas['FECHA_FALLECIMIENTO'], errors='coerce')\n",
    "    print(\"Columns converted to datetime.\")\n",
    "except Exception as e:\n",
    "    print(\"Error converting columns to datetime:\", e)\n",
    "\n",
    "# Now, check if conversion was successful and drop the time component\n",
    "try:\n",
    "    df_victimas['FECHA'] = df_victimas['FECHA'].dt.date\n",
    "    df_victimas['FECHA_FALLECIMIENTO'] = df_victimas['FECHA_FALLECIMIENTO'].dt.date\n",
    "    print(\"Time components dropped, only dates retained.\")\n",
    "except AttributeError:\n",
    "    print(\"Failed to drop time components. Columns might not be datetime.\")\n",
    "\n",
    "# Display the first few entries to confirm the changes\n",
    "print(df_victimas[['FECHA', 'FECHA_FALLECIMIENTO']].head())"
   ]
  },
  {
   "cell_type": "markdown",
   "metadata": {},
   "source": [
    "Now I want to focus on the categorical data. How many categories are in each column, and how many instances of each category?"
   ]
  },
  {
   "cell_type": "code",
   "execution_count": 47,
   "metadata": {},
   "outputs": [
    {
     "name": "stdout",
     "output_type": "stream",
     "text": [
      "Counts for ROL:\n",
      "ROL\n",
      "CONDUCTOR               330\n",
      "PEATON                  267\n",
      "PASAJERO_ACOMPAÑANTE     80\n",
      "CICLISTA                 29\n",
      "SD                       11\n",
      "Name: count, dtype: int64\n",
      "\n",
      "Counts for VICTIMA:\n",
      "VICTIMA\n",
      "MOTO         303\n",
      "PEATON       267\n",
      "AUTO          94\n",
      "BICICLETA     29\n",
      "SD             9\n",
      "CARGAS         7\n",
      "PASAJEROS      5\n",
      "MOVIL          3\n",
      "Name: count, dtype: int64\n",
      "\n",
      "Counts for SEXO:\n",
      "SEXO\n",
      "MASCULINO    545\n",
      "FEMENINO     166\n",
      "SD             6\n",
      "Name: count, dtype: int64\n",
      "\n",
      "Counts for EDAD:\n",
      "EDAD\n",
      "SD    53\n",
      "30    28\n",
      "29    24\n",
      "23    24\n",
      "27    20\n",
      "      ..\n",
      "11     1\n",
      "13     1\n",
      "85     1\n",
      "7      1\n",
      "88     1\n",
      "Name: count, Length: 86, dtype: int64\n"
     ]
    }
   ],
   "source": [
    "# Assuming df_victimas is your DataFrame\n",
    "\n",
    "# Get unique entries and their counts for 'ROL'\n",
    "rol_counts = df_victimas['ROL'].value_counts()\n",
    "print(\"Counts for ROL:\")\n",
    "print(rol_counts)\n",
    "\n",
    "# Get unique entries and their counts for 'VICTIMA'\n",
    "victima_counts = df_victimas['VICTIMA'].value_counts()\n",
    "print(\"\\nCounts for VICTIMA:\")\n",
    "print(victima_counts)\n",
    "\n",
    "# Get unique entries and their counts for 'SEXO'\n",
    "sexo_counts = df_victimas['SEXO'].value_counts()\n",
    "print(\"\\nCounts for SEXO:\")\n",
    "print(sexo_counts)\n",
    "\n",
    "# Get unique entries and their counts for 'EDAD'\n",
    "edad_counts = df_victimas['EDAD'].value_counts()\n",
    "print(\"\\nCounts for EDAD:\")\n",
    "print(edad_counts)\n"
   ]
  },
  {
   "cell_type": "markdown",
   "metadata": {},
   "source": [
    "'PASAJERO_ACOMPAÑANTE' in ROL column is redundant and overly specific. 'PASAJEROS' in VICTIMA column doesn't necessarily imply multiple victims, so it is opaque. Changing to both to PASAJERO"
   ]
  },
  {
   "cell_type": "code",
   "execution_count": 48,
   "metadata": {},
   "outputs": [
    {
     "name": "stdout",
     "output_type": "stream",
     "text": [
      "Unique entries in 'ROL': ['CONDUCTOR' 'PASAJERO' 'PEATON' 'SD' 'CICLISTA']\n",
      "Unique entries in 'VICTIMA': ['MOTO' 'AUTO' 'PEATON' 'SD' 'CARGAS' 'BICICLETA' 'PASAJERO' 'MOVIL']\n"
     ]
    }
   ],
   "source": [
    "# Replace 'PASAJERO_ACOMPAÑANTE' with 'PASAJERO' in the 'ROL' column\n",
    "df_victimas['ROL'] = df_victimas['ROL'].str.replace('PASAJERO_ACOMPAÑANTE', 'PASAJERO')\n",
    "\n",
    "# Replace 'PASAJEROS' with 'PASAJERO' in the 'VICTIMA' column\n",
    "df_victimas['VICTIMA'] = df_victimas['VICTIMA'].str.replace('PASAJEROS', 'PASAJERO')\n",
    "\n",
    "# Check if the replacements were successful\n",
    "print(\"Unique entries in 'ROL':\", df_victimas['ROL'].unique())\n",
    "print(\"Unique entries in 'VICTIMA':\", df_victimas['VICTIMA'].unique())\n",
    "\n"
   ]
  },
  {
   "cell_type": "markdown",
   "metadata": {},
   "source": [
    "Check for missing values/nulls"
   ]
  },
  {
   "cell_type": "code",
   "execution_count": 49,
   "metadata": {},
   "outputs": [
    {
     "name": "stdout",
     "output_type": "stream",
     "text": [
      "Null values in each column of df_victimas:\n",
      "ID_hecho                0\n",
      "FECHA                   0\n",
      "AAAA                    0\n",
      "MM                      0\n",
      "DD                      0\n",
      "ROL                     0\n",
      "VICTIMA                 0\n",
      "SEXO                    0\n",
      "EDAD                    0\n",
      "FECHA_FALLECIMIENTO    68\n",
      "dtype: int64\n"
     ]
    }
   ],
   "source": [
    "# Sum of null values in each column for df_victimas\n",
    "null_counts_victimas = df_victimas.isnull().sum()\n",
    "print(\"Null values in each column of df_victimas:\")\n",
    "print(null_counts_victimas)"
   ]
  },
  {
   "cell_type": "markdown",
   "metadata": {},
   "source": [
    "Check for duplicates"
   ]
  },
  {
   "cell_type": "code",
   "execution_count": 50,
   "metadata": {},
   "outputs": [
    {
     "name": "stdout",
     "output_type": "stream",
     "text": [
      "Number of duplicate entries in 'ID' column of df_hechos: 0\n",
      "Empty DataFrame\n",
      "Columns: [ID, N_VICTIMAS, FECHA, AAAA, MM, DD, HORA, HH, LUGAR_DEL_HECHO, TIPO_DE_CALLE, Calle, Altura, Cruce, Dirección Normalizada, COMUNA, XY (CABA), pos x, pos y, PARTICIPANTES, VICTIMA, ACUSADO, PERIODO]\n",
      "Index: []\n",
      "\n",
      "[0 rows x 22 columns]\n"
     ]
    }
   ],
   "source": [
    "# Check for duplicates in the 'ID' column of df_hechos\n",
    "duplicates_hechos = df_hechos.duplicated(subset='ID', keep=False)  # 'keep=False' marks all duplicates as True\n",
    "\n",
    "# To see the duplicated rows based on 'ID'\n",
    "duplicated_rows_hechos = df_hechos[duplicates_hechos]\n",
    "\n",
    "# Count of duplicate entries\n",
    "count_duplicates_hechos = duplicates_hechos.sum()\n",
    "print(\"Number of duplicate entries in 'ID' column of df_hechos:\", count_duplicates_hechos)\n",
    "print(duplicated_rows_hechos)\n"
   ]
  },
  {
   "cell_type": "markdown",
   "metadata": {},
   "source": [
    "It makes sense that there would be duplicated entries for some ID_hecho rows...these are single accidents that resulted in multiple fatalities"
   ]
  },
  {
   "cell_type": "code",
   "execution_count": 51,
   "metadata": {},
   "outputs": [
    {
     "name": "stdout",
     "output_type": "stream",
     "text": [
      "Number of duplicate entries in 'ID_hechos' column of df_victimas: 41\n",
      "      ID_hecho       FECHA  AAAA  MM  DD        ROL VICTIMA       SEXO EDAD  \\\n",
      "29   2016-0041  2016-03-29  2016   3  29  CONDUCTOR    MOTO  MASCULINO   54   \n",
      "30   2016-0041  2016-03-29  2016   3  29   PASAJERO    MOTO  MASCULINO   SD   \n",
      "98   2016-0126  2016-09-18  2016   9  18  CONDUCTOR    AUTO  MASCULINO   37   \n",
      "99   2016-0126  2016-09-18  2016   9  18   PASAJERO    AUTO  MASCULINO   60   \n",
      "163  2017-0026  2017-02-26  2017   2  26   PASAJERO    AUTO   FEMENINO   23   \n",
      "164  2017-0026  2017-02-26  2017   2  26  CONDUCTOR    AUTO  MASCULINO   19   \n",
      "173  2017-0035  2017-03-23  2017   3  23  CONDUCTOR    AUTO  MASCULINO   28   \n",
      "174  2017-0035  2017-03-23  2017   3  23   PASAJERO    AUTO  MASCULINO   32   \n",
      "175  2017-0035  2017-03-23  2017   3  23   PASAJERO    AUTO  MASCULINO   30   \n",
      "176  2017-0036  2017-03-29  2017   3  29   PASAJERO    MOTO   FEMENINO   SD   \n",
      "177  2017-0036  2017-03-29  2017   3  29  CONDUCTOR    MOTO  MASCULINO   20   \n",
      "186  2017-0050  2017-04-28  2017   4  28  CONDUCTOR    MOTO  MASCULINO   46   \n",
      "187  2017-0050  2017-04-28  2017   4  28   PASAJERO    MOTO  MASCULINO   16   \n",
      "237  2017-0108  2017-09-02  2017   9   2   PASAJERO    AUTO  MASCULINO   17   \n",
      "238  2017-0108  2017-09-02  2017   9   2   PASAJERO    AUTO  MASCULINO   10   \n",
      "242  2017-0112  2017-09-10  2017   9  10   PASAJERO    AUTO  MASCULINO    1   \n",
      "243  2017-0112  2017-09-10  2017   9  10   PASAJERO    AUTO  MASCULINO   SD   \n",
      "253  2017-0126  2017-10-14  2017  10  14   PASAJERO    AUTO  MASCULINO   39   \n",
      "254  2017-0126  2017-10-14  2017  10  14  CONDUCTOR    AUTO  MASCULINO   36   \n",
      "277  2017-0153  2017-12-11  2017  12  11   PASAJERO    MOTO  MASCULINO   SD   \n",
      "278  2017-0153  2017-12-11  2017  12  11  CONDUCTOR    MOTO  MASCULINO   30   \n",
      "300  2018-0015  2018-02-06  2018   2   6  CONDUCTOR    MOTO  MASCULINO   28   \n",
      "301  2018-0015  2018-02-06  2018   2   6   PASAJERO    MOTO  MASCULINO   19   \n",
      "312  2018-0026  2018-03-09  2018   3   9  CONDUCTOR   MOVIL  MASCULINO   24   \n",
      "313  2018-0026  2018-03-09  2018   3   9   PASAJERO   MOVIL  MASCULINO   30   \n",
      "325  2018-0038  2018-04-20  2018   4  20     PEATON  PEATON   FEMENINO   59   \n",
      "326  2018-0038  2018-04-20  2018   4  20     PEATON  PEATON  MASCULINO   61   \n",
      "373  2018-0085  2018-08-03  2018   8   3   PASAJERO    MOTO   FEMENINO   22   \n",
      "374  2018-0085  2018-08-03  2018   8   3  CONDUCTOR    MOTO  MASCULINO   30   \n",
      "387  2018-0098  2018-09-09  2018   9   9  CONDUCTOR    AUTO  MASCULINO   55   \n",
      "388  2018-0098  2018-09-09  2018   9   9   PASAJERO    AUTO  MASCULINO   54   \n",
      "418  2018-0128  2018-11-25  2018  11  25   PASAJERO    AUTO  MASCULINO   49   \n",
      "419  2018-0128  2018-11-25  2018  11  25   PASAJERO    AUTO   FEMENINO   39   \n",
      "444  2019-0010  2019-02-02  2019   2   2     PEATON  PEATON  MASCULINO   SD   \n",
      "445  2019-0010  2019-02-02  2019   2   2     PEATON  PEATON  MASCULINO   59   \n",
      "576  2020-0038  2020-08-30  2020   8  30  CONDUCTOR    AUTO  MASCULINO   46   \n",
      "577  2020-0038  2020-08-30  2020   8  30  CONDUCTOR    AUTO  MASCULINO   64   \n",
      "602  2020-0063  2020-12-05  2020  12   5     PEATON  PEATON  MASCULINO   38   \n",
      "603  2020-0063  2020-12-05  2020  12   5   PASAJERO    MOTO  MASCULINO   21   \n",
      "616  2020-0077  2020-12-25  2020  12  25  CONDUCTOR    MOTO   FEMENINO   30   \n",
      "617  2020-0077  2020-12-25  2020  12  25   PASAJERO    MOTO   FEMENINO   24   \n",
      "\n",
      "    FECHA_FALLECIMIENTO  \n",
      "29           2016-03-29  \n",
      "30           2016-03-30  \n",
      "98                  NaT  \n",
      "99                  NaT  \n",
      "163          2017-02-26  \n",
      "164          2017-02-26  \n",
      "173          2017-03-23  \n",
      "174          2017-03-23  \n",
      "175          2017-03-23  \n",
      "176          2017-03-29  \n",
      "177          2017-03-29  \n",
      "186          2017-04-28  \n",
      "187          2017-04-28  \n",
      "237          2017-09-02  \n",
      "238          2017-09-02  \n",
      "242                 NaT  \n",
      "243          2017-09-13  \n",
      "253                 NaT  \n",
      "254          2017-10-14  \n",
      "277          2017-12-12  \n",
      "278          2017-12-12  \n",
      "300          2018-02-06  \n",
      "301          2018-02-06  \n",
      "312          2018-03-09  \n",
      "313          2018-03-09  \n",
      "325          2018-04-20  \n",
      "326          2018-04-20  \n",
      "373          2018-08-03  \n",
      "374          2018-08-03  \n",
      "387          2018-09-09  \n",
      "388          2018-09-09  \n",
      "418          2018-11-25  \n",
      "419          2018-11-25  \n",
      "444          2019-02-02  \n",
      "445          2019-02-02  \n",
      "576          2020-08-30  \n",
      "577          2020-08-30  \n",
      "602          2020-12-05  \n",
      "603          2020-12-05  \n",
      "616          2020-12-25  \n",
      "617          2020-12-25  \n"
     ]
    }
   ],
   "source": [
    "# Check for duplicates in the 'ID_hechos' column of df_victimas\n",
    "duplicates_victimas = df_victimas.duplicated(subset='ID_hecho', keep=False)  # 'keep=False' marks all duplicates as True\n",
    "\n",
    "# To see the duplicated rows based on 'ID_hechos'\n",
    "duplicated_rows_victimas = df_victimas[duplicates_victimas]\n",
    "\n",
    "# Count of duplicate entries\n",
    "count_duplicates_victimas = duplicates_victimas.sum()\n",
    "print(\"Number of duplicate entries in 'ID_hechos' column of df_victimas:\", count_duplicates_victimas)\n",
    "print(duplicated_rows_victimas)\n"
   ]
  },
  {
   "cell_type": "markdown",
   "metadata": {},
   "source": [
    "Each value is unique, but there is no unique identifier for each victim. Fixing that by creating a unit ID_victimas column."
   ]
  },
  {
   "cell_type": "code",
   "execution_count": 52,
   "metadata": {},
   "outputs": [
    {
     "name": "stdout",
     "output_type": "stream",
     "text": [
      "Empty DataFrame\n",
      "Columns: [ID_victimas, ID_hecho, FECHA, AAAA, MM, DD, ROL, VICTIMA, SEXO, EDAD, FECHA_FALLECIMIENTO, victim_count]\n",
      "Index: []\n"
     ]
    }
   ],
   "source": [
    "# Sort by 'id' just in case\n",
    "df_victimas = df_victimas.sort_values(by='ID_hecho')\n",
    "\n",
    "# Create a unique identifier for each victim\n",
    "df_victimas['victim_count'] = df_victimas.groupby('ID_hecho').cumcount() + 1  # starts counting from 1\n",
    "df_victimas['ID_victimas'] = df_victimas['ID_hecho'].astype(str) + '_' + df_victimas['victim_count'].astype(str)\n",
    "\n",
    "# Move 'id_victimas' column to the first position\n",
    "cols = list(df_victimas.columns)\n",
    "cols.insert(0, cols.pop(cols.index('ID_victimas')))\n",
    "df_victimas = df_victimas[cols]\n",
    "\n",
    "#Accidentaly created two columns, removing mistake\n",
    "\n",
    "#See victim numbers sharing same ID_hecho, so filter for rows where the same accident 'id' appears more than once\n",
    "multi_victim_accidents = df_victimas.groupby('ID_victimas').filter(lambda x: len(x) > 1)\n",
    "\n",
    "# Print these instances\n",
    "print(multi_victim_accidents)"
   ]
  },
  {
   "cell_type": "code",
   "execution_count": 53,
   "metadata": {},
   "outputs": [
    {
     "ename": "KeyError",
     "evalue": "\"['id_victimas'] not found in axis\"",
     "output_type": "error",
     "traceback": [
      "\u001b[1;31m---------------------------------------------------------------------------\u001b[0m",
      "\u001b[1;31mKeyError\u001b[0m                                  Traceback (most recent call last)",
      "Cell \u001b[1;32mIn[53], line 2\u001b[0m\n\u001b[0;32m      1\u001b[0m \u001b[38;5;66;03m# Drop the column 'id_victimas' from df_victimas\u001b[39;00m\n\u001b[1;32m----> 2\u001b[0m df_victimas\u001b[38;5;241m.\u001b[39mdrop(\u001b[38;5;124m'\u001b[39m\u001b[38;5;124mid_victimas\u001b[39m\u001b[38;5;124m'\u001b[39m, axis\u001b[38;5;241m=\u001b[39m\u001b[38;5;241m1\u001b[39m, inplace\u001b[38;5;241m=\u001b[39m\u001b[38;5;28;01mTrue\u001b[39;00m)\n\u001b[0;32m      4\u001b[0m \u001b[38;5;66;03m# Verify the column is removed by printing the DataFrame columns\u001b[39;00m\n\u001b[0;32m      5\u001b[0m \u001b[38;5;28mprint\u001b[39m(df_victimas\u001b[38;5;241m.\u001b[39mcolumns)\n",
      "File \u001b[1;32mc:\\Users\\Owner\\anaconda3\\Lib\\site-packages\\pandas\\core\\frame.py:5258\u001b[0m, in \u001b[0;36mDataFrame.drop\u001b[1;34m(self, labels, axis, index, columns, level, inplace, errors)\u001b[0m\n\u001b[0;32m   5110\u001b[0m \u001b[38;5;28;01mdef\u001b[39;00m \u001b[38;5;21mdrop\u001b[39m(\n\u001b[0;32m   5111\u001b[0m     \u001b[38;5;28mself\u001b[39m,\n\u001b[0;32m   5112\u001b[0m     labels: IndexLabel \u001b[38;5;241m=\u001b[39m \u001b[38;5;28;01mNone\u001b[39;00m,\n\u001b[1;32m   (...)\u001b[0m\n\u001b[0;32m   5119\u001b[0m     errors: IgnoreRaise \u001b[38;5;241m=\u001b[39m \u001b[38;5;124m\"\u001b[39m\u001b[38;5;124mraise\u001b[39m\u001b[38;5;124m\"\u001b[39m,\n\u001b[0;32m   5120\u001b[0m ) \u001b[38;5;241m-\u001b[39m\u001b[38;5;241m>\u001b[39m DataFrame \u001b[38;5;241m|\u001b[39m \u001b[38;5;28;01mNone\u001b[39;00m:\n\u001b[0;32m   5121\u001b[0m \u001b[38;5;250m    \u001b[39m\u001b[38;5;124;03m\"\"\"\u001b[39;00m\n\u001b[0;32m   5122\u001b[0m \u001b[38;5;124;03m    Drop specified labels from rows or columns.\u001b[39;00m\n\u001b[0;32m   5123\u001b[0m \n\u001b[1;32m   (...)\u001b[0m\n\u001b[0;32m   5256\u001b[0m \u001b[38;5;124;03m            weight  1.0     0.8\u001b[39;00m\n\u001b[0;32m   5257\u001b[0m \u001b[38;5;124;03m    \"\"\"\u001b[39;00m\n\u001b[1;32m-> 5258\u001b[0m     \u001b[38;5;28;01mreturn\u001b[39;00m \u001b[38;5;28msuper\u001b[39m()\u001b[38;5;241m.\u001b[39mdrop(\n\u001b[0;32m   5259\u001b[0m         labels\u001b[38;5;241m=\u001b[39mlabels,\n\u001b[0;32m   5260\u001b[0m         axis\u001b[38;5;241m=\u001b[39maxis,\n\u001b[0;32m   5261\u001b[0m         index\u001b[38;5;241m=\u001b[39mindex,\n\u001b[0;32m   5262\u001b[0m         columns\u001b[38;5;241m=\u001b[39mcolumns,\n\u001b[0;32m   5263\u001b[0m         level\u001b[38;5;241m=\u001b[39mlevel,\n\u001b[0;32m   5264\u001b[0m         inplace\u001b[38;5;241m=\u001b[39minplace,\n\u001b[0;32m   5265\u001b[0m         errors\u001b[38;5;241m=\u001b[39merrors,\n\u001b[0;32m   5266\u001b[0m     )\n",
      "File \u001b[1;32mc:\\Users\\Owner\\anaconda3\\Lib\\site-packages\\pandas\\core\\generic.py:4549\u001b[0m, in \u001b[0;36mNDFrame.drop\u001b[1;34m(self, labels, axis, index, columns, level, inplace, errors)\u001b[0m\n\u001b[0;32m   4547\u001b[0m \u001b[38;5;28;01mfor\u001b[39;00m axis, labels \u001b[38;5;129;01min\u001b[39;00m axes\u001b[38;5;241m.\u001b[39mitems():\n\u001b[0;32m   4548\u001b[0m     \u001b[38;5;28;01mif\u001b[39;00m labels \u001b[38;5;129;01mis\u001b[39;00m \u001b[38;5;129;01mnot\u001b[39;00m \u001b[38;5;28;01mNone\u001b[39;00m:\n\u001b[1;32m-> 4549\u001b[0m         obj \u001b[38;5;241m=\u001b[39m obj\u001b[38;5;241m.\u001b[39m_drop_axis(labels, axis, level\u001b[38;5;241m=\u001b[39mlevel, errors\u001b[38;5;241m=\u001b[39merrors)\n\u001b[0;32m   4551\u001b[0m \u001b[38;5;28;01mif\u001b[39;00m inplace:\n\u001b[0;32m   4552\u001b[0m     \u001b[38;5;28mself\u001b[39m\u001b[38;5;241m.\u001b[39m_update_inplace(obj)\n",
      "File \u001b[1;32mc:\\Users\\Owner\\anaconda3\\Lib\\site-packages\\pandas\\core\\generic.py:4591\u001b[0m, in \u001b[0;36mNDFrame._drop_axis\u001b[1;34m(self, labels, axis, level, errors, only_slice)\u001b[0m\n\u001b[0;32m   4589\u001b[0m         new_axis \u001b[38;5;241m=\u001b[39m axis\u001b[38;5;241m.\u001b[39mdrop(labels, level\u001b[38;5;241m=\u001b[39mlevel, errors\u001b[38;5;241m=\u001b[39merrors)\n\u001b[0;32m   4590\u001b[0m     \u001b[38;5;28;01melse\u001b[39;00m:\n\u001b[1;32m-> 4591\u001b[0m         new_axis \u001b[38;5;241m=\u001b[39m axis\u001b[38;5;241m.\u001b[39mdrop(labels, errors\u001b[38;5;241m=\u001b[39merrors)\n\u001b[0;32m   4592\u001b[0m     indexer \u001b[38;5;241m=\u001b[39m axis\u001b[38;5;241m.\u001b[39mget_indexer(new_axis)\n\u001b[0;32m   4594\u001b[0m \u001b[38;5;66;03m# Case for non-unique axis\u001b[39;00m\n\u001b[0;32m   4595\u001b[0m \u001b[38;5;28;01melse\u001b[39;00m:\n",
      "File \u001b[1;32mc:\\Users\\Owner\\anaconda3\\Lib\\site-packages\\pandas\\core\\indexes\\base.py:6699\u001b[0m, in \u001b[0;36mIndex.drop\u001b[1;34m(self, labels, errors)\u001b[0m\n\u001b[0;32m   6697\u001b[0m \u001b[38;5;28;01mif\u001b[39;00m mask\u001b[38;5;241m.\u001b[39many():\n\u001b[0;32m   6698\u001b[0m     \u001b[38;5;28;01mif\u001b[39;00m errors \u001b[38;5;241m!=\u001b[39m \u001b[38;5;124m\"\u001b[39m\u001b[38;5;124mignore\u001b[39m\u001b[38;5;124m\"\u001b[39m:\n\u001b[1;32m-> 6699\u001b[0m         \u001b[38;5;28;01mraise\u001b[39;00m \u001b[38;5;167;01mKeyError\u001b[39;00m(\u001b[38;5;124mf\u001b[39m\u001b[38;5;124m\"\u001b[39m\u001b[38;5;132;01m{\u001b[39;00m\u001b[38;5;28mlist\u001b[39m(labels[mask])\u001b[38;5;132;01m}\u001b[39;00m\u001b[38;5;124m not found in axis\u001b[39m\u001b[38;5;124m\"\u001b[39m)\n\u001b[0;32m   6700\u001b[0m     indexer \u001b[38;5;241m=\u001b[39m indexer[\u001b[38;5;241m~\u001b[39mmask]\n\u001b[0;32m   6701\u001b[0m \u001b[38;5;28;01mreturn\u001b[39;00m \u001b[38;5;28mself\u001b[39m\u001b[38;5;241m.\u001b[39mdelete(indexer)\n",
      "\u001b[1;31mKeyError\u001b[0m: \"['id_victimas'] not found in axis\""
     ]
    }
   ],
   "source": [
    "# Drop the column 'id_victimas' from df_victimas\n",
    "df_victimas.drop('id_victimas', axis=1, inplace=True)\n",
    "\n",
    "# Verify the column is removed by printing the DataFrame columns\n",
    "print(df_victimas.columns)\n"
   ]
  },
  {
   "cell_type": "code",
   "execution_count": 54,
   "metadata": {},
   "outputs": [
    {
     "name": "stdout",
     "output_type": "stream",
     "text": [
      "   ID_victimas   ID_hecho       FECHA  AAAA  MM  DD        ROL VICTIMA  \\\n",
      "0  2016-0001_1  2016-0001  2016-01-01  2016   1   1  CONDUCTOR    MOTO   \n",
      "1  2016-0002_1  2016-0002  2016-01-02  2016   1   2  CONDUCTOR    AUTO   \n",
      "2  2016-0003_1  2016-0003  2016-01-03  2016   1   3  CONDUCTOR    MOTO   \n",
      "3  2016-0004_1  2016-0004  2016-01-10  2016   1  10  CONDUCTOR    MOTO   \n",
      "4  2016-0005_1  2016-0005  2016-01-21  2016   1  21  CONDUCTOR    MOTO   \n",
      "\n",
      "        SEXO EDAD FECHA_FALLECIMIENTO  victim_count  \n",
      "0  MASCULINO   19          2016-01-01             1  \n",
      "1  MASCULINO   70          2016-01-02             1  \n",
      "2  MASCULINO   30          2016-01-03             1  \n",
      "3  MASCULINO   18                 NaT             1  \n",
      "4  MASCULINO   29          2016-02-01             1  \n",
      "ID_victimas\n",
      "2016-0001_1    1\n",
      "2019-0059_1    1\n",
      "2019-0038_1    1\n",
      "2019-0039_1    1\n",
      "2019-0040_1    1\n",
      "              ..\n",
      "2017-0111_1    1\n",
      "2017-0112_1    1\n",
      "2017-0112_2    1\n",
      "2017-0113_1    1\n",
      "2021-0097_1    1\n",
      "Name: count, Length: 717, dtype: int64\n"
     ]
    }
   ],
   "source": [
    "print(df_victimas.head())\n",
    "print(df_victimas['ID_victimas'].value_counts())\n"
   ]
  },
  {
   "cell_type": "code",
   "execution_count": 55,
   "metadata": {},
   "outputs": [
    {
     "name": "stdout",
     "output_type": "stream",
     "text": [
      "<class 'pandas.core.frame.DataFrame'>\n",
      "Index: 717 entries, 0 to 704\n",
      "Data columns (total 12 columns):\n",
      " #   Column               Non-Null Count  Dtype \n",
      "---  ------               --------------  ----- \n",
      " 0   ID_victimas          717 non-null    object\n",
      " 1   ID_hecho             717 non-null    object\n",
      " 2   FECHA                717 non-null    object\n",
      " 3   AAAA                 717 non-null    int64 \n",
      " 4   MM                   717 non-null    int64 \n",
      " 5   DD                   717 non-null    int64 \n",
      " 6   ROL                  717 non-null    object\n",
      " 7   VICTIMA              717 non-null    object\n",
      " 8   SEXO                 717 non-null    object\n",
      " 9   EDAD                 717 non-null    object\n",
      " 10  FECHA_FALLECIMIENTO  649 non-null    object\n",
      " 11  victim_count         717 non-null    int64 \n",
      "dtypes: int64(4), object(8)\n",
      "memory usage: 72.8+ KB\n",
      "None\n"
     ]
    }
   ],
   "source": [
    "df_victimas['victim_count'] = df_victimas.groupby('ID_victimas').cumcount() + 1\n",
    "df_victimas['ID_victimas'] = df_victimas['ID_victimas'].astype(str) + '_' + df_victimas['victim_count'].astype(str)\n",
    "\n",
    "print(df_victimas.info())\n",
    "\n"
   ]
  },
  {
   "cell_type": "code",
   "execution_count": 56,
   "metadata": {},
   "outputs": [
    {
     "name": "stdout",
     "output_type": "stream",
     "text": [
      "Number of unique IDs in ID_hecho: 696\n"
     ]
    }
   ],
   "source": [
    "# Count of unique accident IDs\n",
    "unique_id_count = df_victimas['ID_hecho'].nunique()\n",
    "print(\"Number of unique IDs in ID_hecho:\", unique_id_count)\n"
   ]
  },
  {
   "cell_type": "code",
   "execution_count": 57,
   "metadata": {},
   "outputs": [
    {
     "name": "stdout",
     "output_type": "stream",
     "text": [
      "ID_hecho numbers with multiple fatalities and their counts:\n",
      "ID_hecho\n",
      "2017-0035    3\n",
      "2017-0050    2\n",
      "2016-0041    2\n",
      "2018-0015    2\n",
      "2020-0063    2\n",
      "2017-0126    2\n",
      "2019-0010    2\n",
      "2017-0026    2\n",
      "2017-0112    2\n",
      "2018-0098    2\n",
      "2018-0038    2\n",
      "2020-0038    2\n",
      "2017-0108    2\n",
      "2017-0036    2\n",
      "2018-0026    2\n",
      "2016-0126    2\n",
      "2020-0077    2\n",
      "2018-0085    2\n",
      "2017-0153    2\n",
      "2018-0128    2\n",
      "Name: count, dtype: int64\n"
     ]
    }
   ],
   "source": [
    "# Count occurrences of each ID_hecho\n",
    "id_counts = df_victimas['ID_hecho'].value_counts()\n",
    "\n",
    "# Filter for ID_hecho numbers that appear more than once\n",
    "multiple_fatalities = id_counts[id_counts > 1]\n",
    "\n",
    "# Print the IDs and their counts\n",
    "print(\"ID_hecho numbers with multiple fatalities and their counts:\")\n",
    "print(multiple_fatalities)\n"
   ]
  },
  {
   "cell_type": "code",
   "execution_count": 58,
   "metadata": {},
   "outputs": [
    {
     "name": "stdout",
     "output_type": "stream",
     "text": [
      "      ID_hecho    ID_victimas       FECHA  AAAA  MM  DD        ROL    VICTIMA  \\\n",
      "0    2016-0001  2016-0001_1_1  2016-01-01  2016   1   1  CONDUCTOR       MOTO   \n",
      "1    2016-0002  2016-0002_1_1  2016-01-02  2016   1   2  CONDUCTOR       AUTO   \n",
      "2    2016-0003  2016-0003_1_1  2016-01-03  2016   1   3  CONDUCTOR       MOTO   \n",
      "3    2016-0004  2016-0004_1_1  2016-01-10  2016   1  10  CONDUCTOR       MOTO   \n",
      "4    2016-0005  2016-0005_1_1  2016-01-21  2016   1  21  CONDUCTOR       MOTO   \n",
      "..         ...            ...         ...   ...  ..  ..        ...        ...   \n",
      "713  2021-0093  2021-0093_1_1  2021-12-13  2021  12  13   PASAJERO       MOTO   \n",
      "714  2021-0094  2021-0094_1_1  2021-12-20  2021  12  20   PASAJERO       MOTO   \n",
      "715  2021-0095  2021-0095_1_1  2021-12-30  2021  12  30  CONDUCTOR       MOTO   \n",
      "716  2021-0096  2021-0096_1_1  2021-12-15  2021  12  15  CONDUCTOR       AUTO   \n",
      "704  2021-0097  2021-0097_1_1  2021-11-18  2021  11  18   CICLISTA  BICICLETA   \n",
      "\n",
      "          SEXO EDAD FECHA_FALLECIMIENTO  victim_count  \n",
      "0    MASCULINO   19          2016-01-01             1  \n",
      "1    MASCULINO   70          2016-01-02             1  \n",
      "2    MASCULINO   30          2016-01-03             1  \n",
      "3    MASCULINO   18                 NaT             1  \n",
      "4    MASCULINO   29          2016-02-01             1  \n",
      "..         ...  ...                 ...           ...  \n",
      "713   FEMENINO   18          2021-12-18             1  \n",
      "714   FEMENINO   43          2021-12-20             1  \n",
      "715  MASCULINO   27          2022-01-02             1  \n",
      "716  MASCULINO   60          2021-12-20             1  \n",
      "704  MASCULINO   53          2021-11-19             1  \n",
      "\n",
      "[717 rows x 12 columns]\n"
     ]
    }
   ],
   "source": [
    "column_to_move = 'ID_victimas'\n",
    "insert_location = 1  # Position to insert the column (0-based index)\n",
    "\n",
    "# Get the current position of the column\n",
    "current_position = df_victimas.columns.get_loc(column_to_move)\n",
    "\n",
    "# Remove the column from its current position and insert it at the desired location\n",
    "df_victimas.insert(insert_location, column_to_move, df_victimas.pop(column_to_move))\n",
    "\n",
    "# Display the DataFrame with the column moved\n",
    "print(df_victimas)\n"
   ]
  },
  {
   "cell_type": "markdown",
   "metadata": {},
   "source": [
    "Identify Outliers - Visual Inspection"
   ]
  },
  {
   "cell_type": "markdown",
   "metadata": {},
   "source": [
    "The following values will be visualized from the Hechos table: date (month), time, type of street, neighborhood, participants, victims, and accused"
   ]
  },
  {
   "cell_type": "code",
   "execution_count": 59,
   "metadata": {},
   "outputs": [
    {
     "data": {
      "image/png": "[encoded data removed]",
      "text/plain": [
       "<Figure size 640x480 with 1 Axes>"
      ]
     },
     "metadata": {},
     "output_type": "display_data"
    }
   ],
   "source": [
    "# Incidents by month\n",
    "\n",
    "sns.countplot(x='MM', data=df_hechos)\n",
    "plt.xlabel('Month')\n",
    "plt.ylabel('Count of Incidents')\n",
    "plt.title('Distribution of Incidents by Month')\n",
    "plt.show()"
   ]
  },
  {
   "cell_type": "code",
   "execution_count": 60,
   "metadata": {},
   "outputs": [
    {
     "data": {
      "image/png": "[encoded data removed]",
      "text/plain": [
       "<Figure size 1000x600 with 1 Axes>"
      ]
     },
     "metadata": {},
     "output_type": "display_data"
    }
   ],
   "source": [
    "#Incidents by Time of Day\n",
    "\n",
    "plt.figure(figsize=(10, 6))\n",
    "sns.histplot(df_hechos['HH'], bins=24, kde=False)\n",
    "plt.xlabel('Time')\n",
    "plt.ylabel('Count of Incidents')\n",
    "plt.title('Distribution of Incidents by Time of Day')\n",
    "plt.show()\n"
   ]
  },
  {
   "cell_type": "code",
   "execution_count": null,
   "metadata": {},
   "outputs": [
    {
     "data": {
      "image/png": "[encoded data removed]",
      "text/plain": [
       "<Figure size 640x480 with 1 Axes>"
      ]
     },
     "metadata": {},
     "output_type": "display_data"
    }
   ],
   "source": [
    "# Type of Street\n",
    "\n",
    "sns.countplot(x='TIPO_DE_CALLE', data=df_hechos)\n",
    "plt.xlabel('Type of Street')\n",
    "plt.ylabel('Count of Incidents')\n",
    "plt.title('Distribution of Incidents by Type of Street')\n",
    "plt.xticks(rotation=45)\n",
    "plt.show()\n"
   ]
  },
  {
   "cell_type": "code",
   "execution_count": null,
   "metadata": {},
   "outputs": [
    {
     "data": {
      "image/png": "[encoded data removed]",
      "text/plain": [
       "<Figure size 1000x600 with 1 Axes>"
      ]
     },
     "metadata": {},
     "output_type": "display_data"
    }
   ],
   "source": [
    "# Neighborhood\n",
    "\n",
    "plt.figure(figsize=(10, 6))\n",
    "sns.countplot(x='COMUNA', data=df_hechos, order=df_hechos['COMUNA'].value_counts().index)\n",
    "plt.xlabel('Neighborhood')\n",
    "plt.ylabel('Count of Incidents')\n",
    "plt.title('Distribution of Incidents by Neighborhood')\n",
    "plt.xticks(rotation=90)\n",
    "plt.show()\n"
   ]
  },
  {
   "cell_type": "code",
   "execution_count": null,
   "metadata": {},
   "outputs": [
    {
     "data": {
      "image/png": "[encoded data removed]",
      "text/plain": [
       "<Figure size 640x480 with 1 Axes>"
      ]
     },
     "metadata": {},
     "output_type": "display_data"
    }
   ],
   "source": [
    "# Participants\n",
    "\n",
    "sns.histplot(df_hechos['PARTICIPANTES'], bins=20, kde=False)\n",
    "plt.xlabel('Number of Participants')\n",
    "plt.ylabel('Count of Incidents')\n",
    "plt.title('Distribution of Incidents by Number of Participants')\n",
    "plt.show()\n"
   ]
  },
  {
   "cell_type": "code",
   "execution_count": null,
   "metadata": {},
   "outputs": [
    {
     "data": {
      "image/png": "[encoded data removed]",
      "text/plain": [
       "<Figure size 800x600 with 1 Axes>"
      ]
     },
     "metadata": {},
     "output_type": "display_data"
    }
   ],
   "source": [
    "#Victims and Accused\n",
    "\n",
    "plt.figure(figsize=(8, 6))  # Adjust the figure size if needed\n",
    "sns.countplot(x='VICTIMA', data=df_hechos, hue='ACUSADO')\n",
    "plt.xlabel('Role')\n",
    "plt.ylabel('Count of Incidents')\n",
    "plt.title('Distribution of Incidents by Victims and Accused')\n",
    "plt.xticks(rotation=45)\n",
    "plt.legend(title='Victim or Accused')\n",
    "plt.show()\n"
   ]
  },
  {
   "cell_type": "markdown",
   "metadata": {},
   "source": [
    "The following values will be visualized from the Victimas table: age, sex, victim, role"
   ]
  },
  {
   "cell_type": "code",
   "execution_count": null,
   "metadata": {},
   "outputs": [
    {
     "data": {
      "image/png": "[encoded data removed]",
      "text/plain": [
       "<Figure size 1000x600 with 1 Axes>"
      ]
     },
     "metadata": {},
     "output_type": "display_data"
    }
   ],
   "source": [
    "# Age\n",
    "\n",
    "df_victimas['EDAD'] = pd.to_numeric(df_victimas['EDAD'], errors='coerce') #handle the SD values\n",
    "plt.figure(figsize=(10, 6))\n",
    "sns.histplot(df_victimas['EDAD'], bins=20, kde=False)\n",
    "plt.xlabel('Age')\n",
    "plt.ylabel('Count of Victims')\n",
    "plt.title('Distribution of Victim Ages')\n",
    "plt.show()\n"
   ]
  },
  {
   "cell_type": "code",
   "execution_count": null,
   "metadata": {},
   "outputs": [
    {
     "data": {
      "image/png": "[encoded data removed]",
      "text/plain": [
       "<Figure size 640x480 with 1 Axes>"
      ]
     },
     "metadata": {},
     "output_type": "display_data"
    }
   ],
   "source": [
    "# Sex\n",
    "\n",
    "sns.countplot(x='SEXO', data=df_victimas)\n",
    "plt.xlabel('Sex')\n",
    "plt.ylabel('Count of Victims')\n",
    "plt.title('Distribution of Victims by Sex')\n",
    "plt.show()\n"
   ]
  },
  {
   "cell_type": "code",
   "execution_count": null,
   "metadata": {},
   "outputs": [
    {
     "data": {
      "image/png": "[encoded data removed]",
      "text/plain": [
       "<Figure size 640x480 with 1 Axes>"
      ]
     },
     "metadata": {},
     "output_type": "display_data"
    }
   ],
   "source": [
    "# Victim Role\n",
    "\n",
    "sns.countplot(x='ROL', data=df_victimas)\n",
    "plt.xlabel('Victim Role')\n",
    "plt.ylabel('Count of Victims')\n",
    "plt.title('Distribution of Victims by Role')\n",
    "plt.xticks(rotation=45)\n",
    "plt.show()\n"
   ]
  },
  {
   "cell_type": "code",
   "execution_count": null,
   "metadata": {},
   "outputs": [
    {
     "data": {
      "image/png": "[encoded data removed]",
      "text/plain": [
       "<Figure size 1000x600 with 1 Axes>"
      ]
     },
     "metadata": {},
     "output_type": "display_data"
    }
   ],
   "source": [
    "# Victim\n",
    "\n",
    "plt.figure(figsize=(10, 6))\n",
    "sns.countplot(x='VICTIMA', data=df_victimas, order=df_victimas['VICTIMA'].value_counts().index)\n",
    "plt.xlabel('Victim')\n",
    "plt.ylabel('Count of Victims')\n",
    "plt.title('Distribution of Victims by Category')\n",
    "plt.xticks(rotation=90)\n",
    "plt.show()\n"
   ]
  },
  {
   "cell_type": "code",
   "execution_count": null,
   "metadata": {},
   "outputs": [],
   "source": [
    "#export dataframes into new excel files\n",
    "df_victimas.to_excel('victimas.xlsx', index=False)\n",
    "\n",
    "df_hechos.to_excel('hechos.xlsx', index=False)\n"
   ]
  },
  {
   "cell_type": "code",
   "execution_count": 62,
   "metadata": {},
   "outputs": [
    {
     "data": {
      "text/html": [
       "<div>\n",
       "<style scoped>\n",
       "    .dataframe tbody tr th:only-of-type {\n",
       "        vertical-align: middle;\n",
       "    }\n",
       "\n",
       "    .dataframe tbody tr th {\n",
       "        vertical-align: top;\n",
       "    }\n",
       "\n",
       "    .dataframe thead th {\n",
       "        text-align: right;\n",
       "    }\n",
       "</style>\n",
       "<table border=\"1\" class=\"dataframe\">\n",
       "  <thead>\n",
       "    <tr style=\"text-align: right;\">\n",
       "      <th></th>\n",
       "      <th>ID</th>\n",
       "      <th>N_VICTIMAS</th>\n",
       "      <th>FECHA</th>\n",
       "      <th>AAAA</th>\n",
       "      <th>MM</th>\n",
       "      <th>DD</th>\n",
       "      <th>HORA</th>\n",
       "      <th>HH</th>\n",
       "      <th>LUGAR_DEL_HECHO</th>\n",
       "      <th>TIPO_DE_CALLE</th>\n",
       "      <th>...</th>\n",
       "      <th>Cruce</th>\n",
       "      <th>Dirección Normalizada</th>\n",
       "      <th>COMUNA</th>\n",
       "      <th>XY (CABA)</th>\n",
       "      <th>pos x</th>\n",
       "      <th>pos y</th>\n",
       "      <th>PARTICIPANTES</th>\n",
       "      <th>VICTIMA</th>\n",
       "      <th>ACUSADO</th>\n",
       "      <th>PERIODO</th>\n",
       "    </tr>\n",
       "  </thead>\n",
       "  <tbody>\n",
       "    <tr>\n",
       "      <th>0</th>\n",
       "      <td>2016-0001</td>\n",
       "      <td>1</td>\n",
       "      <td>2016-01-01</td>\n",
       "      <td>2016</td>\n",
       "      <td>1</td>\n",
       "      <td>1</td>\n",
       "      <td>1900-01-01 04:00:00</td>\n",
       "      <td>4</td>\n",
       "      <td>AV PIEDRA BUENA Y AV FERNANDEZ DE LA CRUZ</td>\n",
       "      <td>AVENIDA</td>\n",
       "      <td>...</td>\n",
       "      <td>FERNANDEZ DE LA CRUZ, F., GRAL. AV.</td>\n",
       "      <td>PIEDRA BUENA AV. y FERNANDEZ DE LA CRUZ, F., G...</td>\n",
       "      <td>8</td>\n",
       "      <td>Point (98896.78238426 93532.43437792)</td>\n",
       "      <td>-58.47533969</td>\n",
       "      <td>-34.68757022</td>\n",
       "      <td>MOTO-AUTO</td>\n",
       "      <td>MOTO</td>\n",
       "      <td>AUTO</td>\n",
       "      <td>Madrugada</td>\n",
       "    </tr>\n",
       "    <tr>\n",
       "      <th>1</th>\n",
       "      <td>2016-0002</td>\n",
       "      <td>1</td>\n",
       "      <td>2016-01-02</td>\n",
       "      <td>2016</td>\n",
       "      <td>1</td>\n",
       "      <td>2</td>\n",
       "      <td>1900-01-01 01:15:00</td>\n",
       "      <td>1</td>\n",
       "      <td>AV GRAL PAZ  Y AV DE LOS CORRALES</td>\n",
       "      <td>AUTOPISTA</td>\n",
       "      <td>...</td>\n",
       "      <td>DE LOS CORRALES AV.</td>\n",
       "      <td>PAZ, GRAL. AV. y DE LOS CORRALES AV.</td>\n",
       "      <td>9</td>\n",
       "      <td>Point (95832.05571093 95505.41641999)</td>\n",
       "      <td>-58.50877521</td>\n",
       "      <td>-34.66977709</td>\n",
       "      <td>AUTO-PASAJEROS</td>\n",
       "      <td>AUTO</td>\n",
       "      <td>PASAJEROS</td>\n",
       "      <td>Madrugada</td>\n",
       "    </tr>\n",
       "    <tr>\n",
       "      <th>2</th>\n",
       "      <td>2016-0003</td>\n",
       "      <td>1</td>\n",
       "      <td>2016-01-03</td>\n",
       "      <td>2016</td>\n",
       "      <td>1</td>\n",
       "      <td>3</td>\n",
       "      <td>1900-01-01 07:00:00</td>\n",
       "      <td>7</td>\n",
       "      <td>AV ENTRE RIOS 2034</td>\n",
       "      <td>AVENIDA</td>\n",
       "      <td>...</td>\n",
       "      <td>NaN</td>\n",
       "      <td>ENTRE RIOS AV. 2034</td>\n",
       "      <td>1</td>\n",
       "      <td>Point (106684.29090040 99706.57687843)</td>\n",
       "      <td>-58.39040293</td>\n",
       "      <td>-34.63189362</td>\n",
       "      <td>MOTO-AUTO</td>\n",
       "      <td>MOTO</td>\n",
       "      <td>AUTO</td>\n",
       "      <td>Mañana</td>\n",
       "    </tr>\n",
       "    <tr>\n",
       "      <th>3</th>\n",
       "      <td>2016-0004</td>\n",
       "      <td>1</td>\n",
       "      <td>2016-01-10</td>\n",
       "      <td>2016</td>\n",
       "      <td>1</td>\n",
       "      <td>10</td>\n",
       "      <td>1900-01-01 00:00:00</td>\n",
       "      <td>0</td>\n",
       "      <td>AV LARRAZABAL Y GRAL VILLEGAS CONRADO</td>\n",
       "      <td>AVENIDA</td>\n",
       "      <td>...</td>\n",
       "      <td>VILLEGAS, CONRADO, GRAL.</td>\n",
       "      <td>LARRAZABAL AV. y VILLEGAS, CONRADO, GRAL.</td>\n",
       "      <td>8</td>\n",
       "      <td>Point (99840.65224780 94269.16534422)</td>\n",
       "      <td>-58.46503904</td>\n",
       "      <td>-34.68092974</td>\n",
       "      <td>MOTO-SD</td>\n",
       "      <td>MOTO</td>\n",
       "      <td>SD</td>\n",
       "      <td>Madrugada</td>\n",
       "    </tr>\n",
       "    <tr>\n",
       "      <th>4</th>\n",
       "      <td>2016-0005</td>\n",
       "      <td>1</td>\n",
       "      <td>2016-01-21</td>\n",
       "      <td>2016</td>\n",
       "      <td>1</td>\n",
       "      <td>21</td>\n",
       "      <td>1900-01-01 05:20:00</td>\n",
       "      <td>5</td>\n",
       "      <td>AV SAN JUAN Y PRESIDENTE LUIS SAENZ PEÑA</td>\n",
       "      <td>AVENIDA</td>\n",
       "      <td>...</td>\n",
       "      <td>SAENZ PE?A, LUIS, PRES.</td>\n",
       "      <td>SAN JUAN AV. y SAENZ PEÃ‘A, LUIS, PRES.</td>\n",
       "      <td>1</td>\n",
       "      <td>Point (106980.32827929 100752.16915795)</td>\n",
       "      <td>-58.38718297</td>\n",
       "      <td>-34.62246630</td>\n",
       "      <td>MOTO-PASAJEROS</td>\n",
       "      <td>MOTO</td>\n",
       "      <td>PASAJEROS</td>\n",
       "      <td>Mañana</td>\n",
       "    </tr>\n",
       "    <tr>\n",
       "      <th>...</th>\n",
       "      <td>...</td>\n",
       "      <td>...</td>\n",
       "      <td>...</td>\n",
       "      <td>...</td>\n",
       "      <td>...</td>\n",
       "      <td>...</td>\n",
       "      <td>...</td>\n",
       "      <td>...</td>\n",
       "      <td>...</td>\n",
       "      <td>...</td>\n",
       "      <td>...</td>\n",
       "      <td>...</td>\n",
       "      <td>...</td>\n",
       "      <td>...</td>\n",
       "      <td>...</td>\n",
       "      <td>...</td>\n",
       "      <td>...</td>\n",
       "      <td>...</td>\n",
       "      <td>...</td>\n",
       "      <td>...</td>\n",
       "      <td>...</td>\n",
       "    </tr>\n",
       "    <tr>\n",
       "      <th>691</th>\n",
       "      <td>2021-0093</td>\n",
       "      <td>1</td>\n",
       "      <td>2021-12-13</td>\n",
       "      <td>2021</td>\n",
       "      <td>12</td>\n",
       "      <td>13</td>\n",
       "      <td>1900-01-01 17:10:00</td>\n",
       "      <td>17</td>\n",
       "      <td>AV. RIESTRA Y MOM</td>\n",
       "      <td>AVENIDA</td>\n",
       "      <td>...</td>\n",
       "      <td>MOM</td>\n",
       "      <td>RIESTRA AV. y MOM</td>\n",
       "      <td>7</td>\n",
       "      <td>Point (102728.60090138 98186.24929177)</td>\n",
       "      <td>-58.43353773</td>\n",
       "      <td>-34.64561636</td>\n",
       "      <td>MOTO-AUTO</td>\n",
       "      <td>MOTO</td>\n",
       "      <td>AUTO</td>\n",
       "      <td>Noche</td>\n",
       "    </tr>\n",
       "    <tr>\n",
       "      <th>692</th>\n",
       "      <td>2021-0094</td>\n",
       "      <td>1</td>\n",
       "      <td>2021-12-20</td>\n",
       "      <td>2021</td>\n",
       "      <td>12</td>\n",
       "      <td>20</td>\n",
       "      <td>1900-01-01 01:10:00</td>\n",
       "      <td>1</td>\n",
       "      <td>AU DELLEPIANE Y LACARRA</td>\n",
       "      <td>AUTOPISTA</td>\n",
       "      <td>...</td>\n",
       "      <td>LACARRA AV.</td>\n",
       "      <td>DELLEPIANE, LUIS, TTE. GRAL. y LACARRA AV.</td>\n",
       "      <td>9</td>\n",
       "      <td>Point (99624.29795829 97569.69801131)</td>\n",
       "      <td>-58.46739825</td>\n",
       "      <td>-34.65117757</td>\n",
       "      <td>MOTO-AUTO</td>\n",
       "      <td>MOTO</td>\n",
       "      <td>AUTO</td>\n",
       "      <td>Madrugada</td>\n",
       "    </tr>\n",
       "    <tr>\n",
       "      <th>693</th>\n",
       "      <td>2021-0095</td>\n",
       "      <td>1</td>\n",
       "      <td>2021-12-30</td>\n",
       "      <td>2021</td>\n",
       "      <td>12</td>\n",
       "      <td>30</td>\n",
       "      <td>1900-01-01 00:43:00</td>\n",
       "      <td>0</td>\n",
       "      <td>AV. GAONA Y TERRADA</td>\n",
       "      <td>AVENIDA</td>\n",
       "      <td>...</td>\n",
       "      <td>TERRADA</td>\n",
       "      <td>GAONA AV. y TERRADA</td>\n",
       "      <td>11</td>\n",
       "      <td>Point (99116.45492358 101045.23284826)</td>\n",
       "      <td>-58.47293407</td>\n",
       "      <td>-34.61984745</td>\n",
       "      <td>MOTO-CARGAS</td>\n",
       "      <td>MOTO</td>\n",
       "      <td>CARGAS</td>\n",
       "      <td>Madrugada</td>\n",
       "    </tr>\n",
       "    <tr>\n",
       "      <th>694</th>\n",
       "      <td>2021-0096</td>\n",
       "      <td>1</td>\n",
       "      <td>2021-12-15</td>\n",
       "      <td>2021</td>\n",
       "      <td>12</td>\n",
       "      <td>15</td>\n",
       "      <td>1900-01-01 10:30:00</td>\n",
       "      <td>10</td>\n",
       "      <td>AV. EVA PERON 4071</td>\n",
       "      <td>AVENIDA</td>\n",
       "      <td>...</td>\n",
       "      <td>NaN</td>\n",
       "      <td>PERON, EVA AV. 4071</td>\n",
       "      <td>9</td>\n",
       "      <td>Point (99324.54463985 97676.26932409)</td>\n",
       "      <td>-58.47066794</td>\n",
       "      <td>-34.65021673</td>\n",
       "      <td>AUTO-CARGAS</td>\n",
       "      <td>AUTO</td>\n",
       "      <td>CARGAS</td>\n",
       "      <td>Mediodía</td>\n",
       "    </tr>\n",
       "    <tr>\n",
       "      <th>695</th>\n",
       "      <td>2021-0097</td>\n",
       "      <td>1</td>\n",
       "      <td>2021-11-18</td>\n",
       "      <td>2021</td>\n",
       "      <td>11</td>\n",
       "      <td>18</td>\n",
       "      <td>1900-01-01 06:10:00</td>\n",
       "      <td>6</td>\n",
       "      <td>PADRE CARLOS MUJICA 709</td>\n",
       "      <td>CALLE</td>\n",
       "      <td>...</td>\n",
       "      <td>NaN</td>\n",
       "      <td>PADRE CARLOS MUGICA 709</td>\n",
       "      <td>1</td>\n",
       "      <td>Point (107664.16647795 104708.63962087)</td>\n",
       "      <td>-58.37976155</td>\n",
       "      <td>-34.58679619</td>\n",
       "      <td>BICICLETA-AUTO</td>\n",
       "      <td>BICICLETA</td>\n",
       "      <td>AUTO</td>\n",
       "      <td>Mañana</td>\n",
       "    </tr>\n",
       "  </tbody>\n",
       "</table>\n",
       "<p>695 rows × 22 columns</p>\n",
       "</div>"
      ],
      "text/plain": [
       "            ID  N_VICTIMAS      FECHA  AAAA  MM  DD                HORA  HH  \\\n",
       "0    2016-0001           1 2016-01-01  2016   1   1 1900-01-01 04:00:00   4   \n",
       "1    2016-0002           1 2016-01-02  2016   1   2 1900-01-01 01:15:00   1   \n",
       "2    2016-0003           1 2016-01-03  2016   1   3 1900-01-01 07:00:00   7   \n",
       "3    2016-0004           1 2016-01-10  2016   1  10 1900-01-01 00:00:00   0   \n",
       "4    2016-0005           1 2016-01-21  2016   1  21 1900-01-01 05:20:00   5   \n",
       "..         ...         ...        ...   ...  ..  ..                 ...  ..   \n",
       "691  2021-0093           1 2021-12-13  2021  12  13 1900-01-01 17:10:00  17   \n",
       "692  2021-0094           1 2021-12-20  2021  12  20 1900-01-01 01:10:00   1   \n",
       "693  2021-0095           1 2021-12-30  2021  12  30 1900-01-01 00:43:00   0   \n",
       "694  2021-0096           1 2021-12-15  2021  12  15 1900-01-01 10:30:00  10   \n",
       "695  2021-0097           1 2021-11-18  2021  11  18 1900-01-01 06:10:00   6   \n",
       "\n",
       "                               LUGAR_DEL_HECHO TIPO_DE_CALLE  ...  \\\n",
       "0    AV PIEDRA BUENA Y AV FERNANDEZ DE LA CRUZ       AVENIDA  ...   \n",
       "1            AV GRAL PAZ  Y AV DE LOS CORRALES     AUTOPISTA  ...   \n",
       "2                           AV ENTRE RIOS 2034       AVENIDA  ...   \n",
       "3        AV LARRAZABAL Y GRAL VILLEGAS CONRADO       AVENIDA  ...   \n",
       "4    AV SAN JUAN Y PRESIDENTE LUIS SAENZ PEÑA        AVENIDA  ...   \n",
       "..                                         ...           ...  ...   \n",
       "691                          AV. RIESTRA Y MOM       AVENIDA  ...   \n",
       "692                    AU DELLEPIANE Y LACARRA     AUTOPISTA  ...   \n",
       "693                        AV. GAONA Y TERRADA       AVENIDA  ...   \n",
       "694                         AV. EVA PERON 4071       AVENIDA  ...   \n",
       "695                    PADRE CARLOS MUJICA 709         CALLE  ...   \n",
       "\n",
       "                                   Cruce  \\\n",
       "0    FERNANDEZ DE LA CRUZ, F., GRAL. AV.   \n",
       "1                    DE LOS CORRALES AV.   \n",
       "2                                    NaN   \n",
       "3               VILLEGAS, CONRADO, GRAL.   \n",
       "4                SAENZ PE?A, LUIS, PRES.   \n",
       "..                                   ...   \n",
       "691                                  MOM   \n",
       "692                          LACARRA AV.   \n",
       "693                              TERRADA   \n",
       "694                                  NaN   \n",
       "695                                  NaN   \n",
       "\n",
       "                                 Dirección Normalizada COMUNA  \\\n",
       "0    PIEDRA BUENA AV. y FERNANDEZ DE LA CRUZ, F., G...      8   \n",
       "1                 PAZ, GRAL. AV. y DE LOS CORRALES AV.      9   \n",
       "2                                  ENTRE RIOS AV. 2034      1   \n",
       "3            LARRAZABAL AV. y VILLEGAS, CONRADO, GRAL.      8   \n",
       "4              SAN JUAN AV. y SAENZ PEÃ‘A, LUIS, PRES.      1   \n",
       "..                                                 ...    ...   \n",
       "691                                  RIESTRA AV. y MOM      7   \n",
       "692         DELLEPIANE, LUIS, TTE. GRAL. y LACARRA AV.      9   \n",
       "693                                GAONA AV. y TERRADA     11   \n",
       "694                                PERON, EVA AV. 4071      9   \n",
       "695                            PADRE CARLOS MUGICA 709      1   \n",
       "\n",
       "                                   XY (CABA)         pos x         pos y  \\\n",
       "0      Point (98896.78238426 93532.43437792)  -58.47533969  -34.68757022   \n",
       "1      Point (95832.05571093 95505.41641999)  -58.50877521  -34.66977709   \n",
       "2     Point (106684.29090040 99706.57687843)  -58.39040293  -34.63189362   \n",
       "3      Point (99840.65224780 94269.16534422)  -58.46503904  -34.68092974   \n",
       "4    Point (106980.32827929 100752.16915795)  -58.38718297  -34.62246630   \n",
       "..                                       ...           ...           ...   \n",
       "691   Point (102728.60090138 98186.24929177)  -58.43353773  -34.64561636   \n",
       "692    Point (99624.29795829 97569.69801131)  -58.46739825  -34.65117757   \n",
       "693   Point (99116.45492358 101045.23284826)  -58.47293407  -34.61984745   \n",
       "694    Point (99324.54463985 97676.26932409)  -58.47066794  -34.65021673   \n",
       "695  Point (107664.16647795 104708.63962087)  -58.37976155  -34.58679619   \n",
       "\n",
       "      PARTICIPANTES    VICTIMA    ACUSADO    PERIODO  \n",
       "0         MOTO-AUTO       MOTO       AUTO  Madrugada  \n",
       "1    AUTO-PASAJEROS       AUTO  PASAJEROS  Madrugada  \n",
       "2         MOTO-AUTO       MOTO       AUTO     Mañana  \n",
       "3           MOTO-SD       MOTO         SD  Madrugada  \n",
       "4    MOTO-PASAJEROS       MOTO  PASAJEROS     Mañana  \n",
       "..              ...        ...        ...        ...  \n",
       "691       MOTO-AUTO       MOTO       AUTO      Noche  \n",
       "692       MOTO-AUTO       MOTO       AUTO  Madrugada  \n",
       "693     MOTO-CARGAS       MOTO     CARGAS  Madrugada  \n",
       "694     AUTO-CARGAS       AUTO     CARGAS   Mediodía  \n",
       "695  BICICLETA-AUTO  BICICLETA       AUTO     Mañana  \n",
       "\n",
       "[695 rows x 22 columns]"
      ]
     },
     "execution_count": 62,
     "metadata": {},
     "output_type": "execute_result"
    }
   ],
   "source": [
    "df_hechos"
   ]
  },
  {
   "cell_type": "code",
   "execution_count": 61,
   "metadata": {},
   "outputs": [],
   "source": [
    "df_hechos.to_excel('hechos.xlsx', index=False)"
   ]
  }
 ],
 "metadata": {
  "kernelspec": {
   "display_name": "Python 3",
   "language": "python",
   "name": "python3"
  },
  "language_info": {
   "codemirror_mode": {
    "name": "ipython",
    "version": 3
   },
   "file_extension": ".py",
   "mimetype": "text/x-python",
   "name": "python",
   "nbconvert_exporter": "python",
   "pygments_lexer": "ipython3",
   "version": "3.11.5"
  }
 },
 "nbformat": 4,
 "nbformat_minor": 2
}
